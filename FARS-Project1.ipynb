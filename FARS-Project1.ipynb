{
 "cells": [
  {
   "cell_type": "code",
   "execution_count": 1,
   "id": "f669d8e0",
   "metadata": {},
   "outputs": [],
   "source": [
    "import pandas as pd\n",
    "import matplotlib.pyplot as plt\n",
    "%matplotlib inline\n",
    "import seaborn as sb"
   ]
  },
  {
   "cell_type": "code",
   "execution_count": 2,
   "id": "24a88615",
   "metadata": {},
   "outputs": [],
   "source": [
    "data=pd.read_csv('fars2007.csv')"
   ]
  },
  {
   "cell_type": "code",
   "execution_count": 3,
   "id": "11b364fe",
   "metadata": {},
   "outputs": [
    {
     "data": {
      "text/html": [
       "<div>\n",
       "<style scoped>\n",
       "    .dataframe tbody tr th:only-of-type {\n",
       "        vertical-align: middle;\n",
       "    }\n",
       "\n",
       "    .dataframe tbody tr th {\n",
       "        vertical-align: top;\n",
       "    }\n",
       "\n",
       "    .dataframe thead th {\n",
       "        text-align: right;\n",
       "    }\n",
       "</style>\n",
       "<table border=\"1\" class=\"dataframe\">\n",
       "  <thead>\n",
       "    <tr style=\"text-align: right;\">\n",
       "      <th></th>\n",
       "      <th>Unnamed: 0</th>\n",
       "      <th>Obs.</th>\n",
       "      <th>state</th>\n",
       "      <th>casenum</th>\n",
       "      <th>vnum</th>\n",
       "      <th>pnum</th>\n",
       "      <th>lightcond</th>\n",
       "      <th>numfatal</th>\n",
       "      <th>vforms</th>\n",
       "      <th>age</th>\n",
       "      <th>...</th>\n",
       "      <th>sex</th>\n",
       "      <th>body</th>\n",
       "      <th>inimpact</th>\n",
       "      <th>mhevent</th>\n",
       "      <th>vfatcount</th>\n",
       "      <th>numoccs</th>\n",
       "      <th>travspd</th>\n",
       "      <th>make</th>\n",
       "      <th>model</th>\n",
       "      <th>modelyr</th>\n",
       "    </tr>\n",
       "  </thead>\n",
       "  <tbody>\n",
       "    <tr>\n",
       "      <th>0</th>\n",
       "      <td>1</td>\n",
       "      <td>1</td>\n",
       "      <td>1</td>\n",
       "      <td>1</td>\n",
       "      <td>1</td>\n",
       "      <td>1</td>\n",
       "      <td>2</td>\n",
       "      <td>1</td>\n",
       "      <td>1</td>\n",
       "      <td>26</td>\n",
       "      <td>...</td>\n",
       "      <td>1</td>\n",
       "      <td>4</td>\n",
       "      <td>9.0</td>\n",
       "      <td>42</td>\n",
       "      <td>1</td>\n",
       "      <td>1</td>\n",
       "      <td>65.0</td>\n",
       "      <td>37</td>\n",
       "      <td>32</td>\n",
       "      <td>1992</td>\n",
       "    </tr>\n",
       "    <tr>\n",
       "      <th>1</th>\n",
       "      <td>2</td>\n",
       "      <td>2</td>\n",
       "      <td>1</td>\n",
       "      <td>2</td>\n",
       "      <td>1</td>\n",
       "      <td>1</td>\n",
       "      <td>1</td>\n",
       "      <td>2</td>\n",
       "      <td>3</td>\n",
       "      <td>54</td>\n",
       "      <td>...</td>\n",
       "      <td>2</td>\n",
       "      <td>4</td>\n",
       "      <td>12.0</td>\n",
       "      <td>12</td>\n",
       "      <td>0</td>\n",
       "      <td>1</td>\n",
       "      <td>10.0</td>\n",
       "      <td>35</td>\n",
       "      <td>39</td>\n",
       "      <td>1990</td>\n",
       "    </tr>\n",
       "    <tr>\n",
       "      <th>2</th>\n",
       "      <td>3</td>\n",
       "      <td>3</td>\n",
       "      <td>1</td>\n",
       "      <td>2</td>\n",
       "      <td>2</td>\n",
       "      <td>1</td>\n",
       "      <td>1</td>\n",
       "      <td>2</td>\n",
       "      <td>3</td>\n",
       "      <td>68</td>\n",
       "      <td>...</td>\n",
       "      <td>1</td>\n",
       "      <td>4</td>\n",
       "      <td>7.0</td>\n",
       "      <td>12</td>\n",
       "      <td>2</td>\n",
       "      <td>2</td>\n",
       "      <td>55.0</td>\n",
       "      <td>19</td>\n",
       "      <td>3</td>\n",
       "      <td>1993</td>\n",
       "    </tr>\n",
       "    <tr>\n",
       "      <th>3</th>\n",
       "      <td>4</td>\n",
       "      <td>4</td>\n",
       "      <td>1</td>\n",
       "      <td>2</td>\n",
       "      <td>2</td>\n",
       "      <td>2</td>\n",
       "      <td>1</td>\n",
       "      <td>2</td>\n",
       "      <td>3</td>\n",
       "      <td>59</td>\n",
       "      <td>...</td>\n",
       "      <td>1</td>\n",
       "      <td>4</td>\n",
       "      <td>7.0</td>\n",
       "      <td>12</td>\n",
       "      <td>2</td>\n",
       "      <td>2</td>\n",
       "      <td>55.0</td>\n",
       "      <td>19</td>\n",
       "      <td>3</td>\n",
       "      <td>1993</td>\n",
       "    </tr>\n",
       "    <tr>\n",
       "      <th>4</th>\n",
       "      <td>5</td>\n",
       "      <td>5</td>\n",
       "      <td>1</td>\n",
       "      <td>2</td>\n",
       "      <td>3</td>\n",
       "      <td>1</td>\n",
       "      <td>1</td>\n",
       "      <td>2</td>\n",
       "      <td>3</td>\n",
       "      <td>69</td>\n",
       "      <td>...</td>\n",
       "      <td>1</td>\n",
       "      <td>31</td>\n",
       "      <td>12.0</td>\n",
       "      <td>12</td>\n",
       "      <td>0</td>\n",
       "      <td>1</td>\n",
       "      <td>55.0</td>\n",
       "      <td>12</td>\n",
       "      <td>481</td>\n",
       "      <td>2004</td>\n",
       "    </tr>\n",
       "    <tr>\n",
       "      <th>...</th>\n",
       "      <td>...</td>\n",
       "      <td>...</td>\n",
       "      <td>...</td>\n",
       "      <td>...</td>\n",
       "      <td>...</td>\n",
       "      <td>...</td>\n",
       "      <td>...</td>\n",
       "      <td>...</td>\n",
       "      <td>...</td>\n",
       "      <td>...</td>\n",
       "      <td>...</td>\n",
       "      <td>...</td>\n",
       "      <td>...</td>\n",
       "      <td>...</td>\n",
       "      <td>...</td>\n",
       "      <td>...</td>\n",
       "      <td>...</td>\n",
       "      <td>...</td>\n",
       "      <td>...</td>\n",
       "      <td>...</td>\n",
       "      <td>...</td>\n",
       "    </tr>\n",
       "    <tr>\n",
       "      <th>72543</th>\n",
       "      <td>72544</td>\n",
       "      <td>72544</td>\n",
       "      <td>56</td>\n",
       "      <td>133</td>\n",
       "      <td>2</td>\n",
       "      <td>1</td>\n",
       "      <td>1</td>\n",
       "      <td>1</td>\n",
       "      <td>2</td>\n",
       "      <td>61</td>\n",
       "      <td>...</td>\n",
       "      <td>2</td>\n",
       "      <td>15</td>\n",
       "      <td>12.0</td>\n",
       "      <td>12</td>\n",
       "      <td>0</td>\n",
       "      <td>1</td>\n",
       "      <td>52.0</td>\n",
       "      <td>20</td>\n",
       "      <td>421</td>\n",
       "      <td>2003</td>\n",
       "    </tr>\n",
       "    <tr>\n",
       "      <th>72544</th>\n",
       "      <td>72545</td>\n",
       "      <td>72545</td>\n",
       "      <td>56</td>\n",
       "      <td>134</td>\n",
       "      <td>1</td>\n",
       "      <td>1</td>\n",
       "      <td>1</td>\n",
       "      <td>1</td>\n",
       "      <td>1</td>\n",
       "      <td>87</td>\n",
       "      <td>...</td>\n",
       "      <td>1</td>\n",
       "      <td>30</td>\n",
       "      <td>0.0</td>\n",
       "      <td>1</td>\n",
       "      <td>1</td>\n",
       "      <td>1</td>\n",
       "      <td>55.0</td>\n",
       "      <td>12</td>\n",
       "      <td>471</td>\n",
       "      <td>2003</td>\n",
       "    </tr>\n",
       "    <tr>\n",
       "      <th>72545</th>\n",
       "      <td>72546</td>\n",
       "      <td>72546</td>\n",
       "      <td>56</td>\n",
       "      <td>135</td>\n",
       "      <td>1</td>\n",
       "      <td>1</td>\n",
       "      <td>2</td>\n",
       "      <td>1</td>\n",
       "      <td>1</td>\n",
       "      <td>16</td>\n",
       "      <td>...</td>\n",
       "      <td>1</td>\n",
       "      <td>4</td>\n",
       "      <td>0.0</td>\n",
       "      <td>1</td>\n",
       "      <td>1</td>\n",
       "      <td>4</td>\n",
       "      <td>99.0</td>\n",
       "      <td>14</td>\n",
       "      <td>6</td>\n",
       "      <td>1988</td>\n",
       "    </tr>\n",
       "    <tr>\n",
       "      <th>72546</th>\n",
       "      <td>72547</td>\n",
       "      <td>72547</td>\n",
       "      <td>56</td>\n",
       "      <td>136</td>\n",
       "      <td>1</td>\n",
       "      <td>1</td>\n",
       "      <td>1</td>\n",
       "      <td>1</td>\n",
       "      <td>1</td>\n",
       "      <td>74</td>\n",
       "      <td>...</td>\n",
       "      <td>1</td>\n",
       "      <td>82</td>\n",
       "      <td>0.0</td>\n",
       "      <td>7</td>\n",
       "      <td>1</td>\n",
       "      <td>2</td>\n",
       "      <td>40.0</td>\n",
       "      <td>37</td>\n",
       "      <td>706</td>\n",
       "      <td>2007</td>\n",
       "    </tr>\n",
       "    <tr>\n",
       "      <th>72547</th>\n",
       "      <td>72548</td>\n",
       "      <td>72548</td>\n",
       "      <td>56</td>\n",
       "      <td>137</td>\n",
       "      <td>1</td>\n",
       "      <td>1</td>\n",
       "      <td>1</td>\n",
       "      <td>1</td>\n",
       "      <td>1</td>\n",
       "      <td>27</td>\n",
       "      <td>...</td>\n",
       "      <td>1</td>\n",
       "      <td>6</td>\n",
       "      <td>99.0</td>\n",
       "      <td>42</td>\n",
       "      <td>1</td>\n",
       "      <td>1</td>\n",
       "      <td>70.0</td>\n",
       "      <td>20</td>\n",
       "      <td>16</td>\n",
       "      <td>1991</td>\n",
       "    </tr>\n",
       "  </tbody>\n",
       "</table>\n",
       "<p>72548 rows × 25 columns</p>\n",
       "</div>"
      ],
      "text/plain": [
       "       Unnamed: 0   Obs.  state  casenum  vnum  pnum  lightcond  numfatal  \\\n",
       "0               1      1      1        1     1     1          2         1   \n",
       "1               2      2      1        2     1     1          1         2   \n",
       "2               3      3      1        2     2     1          1         2   \n",
       "3               4      4      1        2     2     2          1         2   \n",
       "4               5      5      1        2     3     1          1         2   \n",
       "...           ...    ...    ...      ...   ...   ...        ...       ...   \n",
       "72543       72544  72544     56      133     2     1          1         1   \n",
       "72544       72545  72545     56      134     1     1          1         1   \n",
       "72545       72546  72546     56      135     1     1          2         1   \n",
       "72546       72547  72547     56      136     1     1          1         1   \n",
       "72547       72548  72548     56      137     1     1          1         1   \n",
       "\n",
       "       vforms  age  ...  sex  body  inimpact  mhevent  vfatcount  numoccs  \\\n",
       "0           1   26  ...    1     4       9.0       42          1        1   \n",
       "1           3   54  ...    2     4      12.0       12          0        1   \n",
       "2           3   68  ...    1     4       7.0       12          2        2   \n",
       "3           3   59  ...    1     4       7.0       12          2        2   \n",
       "4           3   69  ...    1    31      12.0       12          0        1   \n",
       "...       ...  ...  ...  ...   ...       ...      ...        ...      ...   \n",
       "72543       2   61  ...    2    15      12.0       12          0        1   \n",
       "72544       1   87  ...    1    30       0.0        1          1        1   \n",
       "72545       1   16  ...    1     4       0.0        1          1        4   \n",
       "72546       1   74  ...    1    82       0.0        7          1        2   \n",
       "72547       1   27  ...    1     6      99.0       42          1        1   \n",
       "\n",
       "       travspd  make  model  modelyr  \n",
       "0         65.0    37     32     1992  \n",
       "1         10.0    35     39     1990  \n",
       "2         55.0    19      3     1993  \n",
       "3         55.0    19      3     1993  \n",
       "4         55.0    12    481     2004  \n",
       "...        ...   ...    ...      ...  \n",
       "72543     52.0    20    421     2003  \n",
       "72544     55.0    12    471     2003  \n",
       "72545     99.0    14      6     1988  \n",
       "72546     40.0    37    706     2007  \n",
       "72547     70.0    20     16     1991  \n",
       "\n",
       "[72548 rows x 25 columns]"
      ]
     },
     "execution_count": 3,
     "metadata": {},
     "output_type": "execute_result"
    }
   ],
   "source": [
    "data"
   ]
  },
  {
   "cell_type": "code",
   "execution_count": 4,
   "id": "ba757af2",
   "metadata": {},
   "outputs": [
    {
     "data": {
      "text/plain": [
       "(72548, 25)"
      ]
     },
     "execution_count": 4,
     "metadata": {},
     "output_type": "execute_result"
    }
   ],
   "source": [
    "data.shape\n"
   ]
  },
  {
   "cell_type": "code",
   "execution_count": 5,
   "id": "52ca7f02",
   "metadata": {},
   "outputs": [
    {
     "data": {
      "text/plain": [
       "1813700"
      ]
     },
     "execution_count": 5,
     "metadata": {},
     "output_type": "execute_result"
    }
   ],
   "source": [
    "data.size"
   ]
  },
  {
   "cell_type": "code",
   "execution_count": 6,
   "id": "93268c59",
   "metadata": {},
   "outputs": [
    {
     "data": {
      "text/plain": [
       "Unnamed: 0      int64\n",
       "Obs.            int64\n",
       "state           int64\n",
       "casenum         int64\n",
       "vnum            int64\n",
       "pnum            int64\n",
       "lightcond       int64\n",
       "numfatal        int64\n",
       "vforms          int64\n",
       "age             int64\n",
       "airbag          int64\n",
       "injury          int64\n",
       "ptype           int64\n",
       "restraint       int64\n",
       "seatpos         int64\n",
       "sex             int64\n",
       "body            int64\n",
       "inimpact      float64\n",
       "mhevent         int64\n",
       "vfatcount       int64\n",
       "numoccs         int64\n",
       "travspd       float64\n",
       "make            int64\n",
       "model           int64\n",
       "modelyr         int64\n",
       "dtype: object"
      ]
     },
     "execution_count": 6,
     "metadata": {},
     "output_type": "execute_result"
    }
   ],
   "source": [
    "data.dtypes"
   ]
  },
  {
   "cell_type": "code",
   "execution_count": 7,
   "id": "117fe963",
   "metadata": {},
   "outputs": [
    {
     "data": {
      "text/plain": [
       "int64      23\n",
       "float64     2\n",
       "dtype: int64"
      ]
     },
     "execution_count": 7,
     "metadata": {},
     "output_type": "execute_result"
    }
   ],
   "source": [
    "data.dtypes.value_counts()"
   ]
  },
  {
   "cell_type": "code",
   "execution_count": 8,
   "id": "6c2975fb",
   "metadata": {},
   "outputs": [
    {
     "data": {
      "text/plain": [
       "array([26, 54, 68, 59, 69, 45, 99, 23, 33, 51, 44, 72, 21, 19, 22, 49, 53,\n",
       "       43, 41, 20, 28, 35, 47, 40, 25, 65, 27, 30, 16, 17, 18, 57, 29, 48,\n",
       "       32, 55, 81, 71, 75, 14, 24, 58, 46, 34, 52, 62, 70, 31, 37, 56, 82,\n",
       "       73, 77, 36, 42, 12, 74, 15, 38, 64, 66, 60, 90, 76, 10,  8, 61,  7,\n",
       "       85, 84,  5, 13, 50, 78, 80, 63, 67, 39,  9, 11, 79, 83,  4,  2, 88,\n",
       "       91, 86,  6, 89,  3, 87, 94,  1,  0, 92, 95, 93, 96, 97],\n",
       "      dtype=int64)"
      ]
     },
     "execution_count": 8,
     "metadata": {},
     "output_type": "execute_result"
    }
   ],
   "source": [
    "data.age.unique()"
   ]
  },
  {
   "cell_type": "code",
   "execution_count": 9,
   "id": "3153a774",
   "metadata": {},
   "outputs": [
    {
     "data": {
      "text/plain": [
       "array([ 1,  2,  3,  4,  5,  6, 10, 11, 12,  7,  8,  9, 13, 14, 15, 16, 17,\n",
       "       18, 19, 20, 21, 22, 23, 24, 25, 26, 27, 28, 29, 30, 31, 32, 33, 34,\n",
       "       35, 36, 37, 38, 39, 40, 41, 42, 43, 44, 45, 46, 47, 48, 49, 50, 51,\n",
       "       52, 53, 54, 55, 56, 57, 58, 59, 60, 61, 62, 63, 64, 65, 66, 67, 68,\n",
       "       69, 70, 71, 72, 73, 74, 75, 76, 77, 78, 79, 80, 81, 82, 83, 84, 85,\n",
       "       86, 87, 88, 89, 90, 91, 92], dtype=int64)"
      ]
     },
     "execution_count": 9,
     "metadata": {},
     "output_type": "execute_result"
    }
   ],
   "source": [
    "data.vnum.unique()"
   ]
  },
  {
   "cell_type": "code",
   "execution_count": 10,
   "id": "babb618d",
   "metadata": {},
   "outputs": [
    {
     "data": {
      "text/plain": [
       "Unnamed: 0    0\n",
       "Obs.          0\n",
       "state         0\n",
       "casenum       0\n",
       "vnum          0\n",
       "pnum          0\n",
       "lightcond     0\n",
       "numfatal      0\n",
       "vforms        0\n",
       "age           0\n",
       "airbag        0\n",
       "injury        0\n",
       "ptype         0\n",
       "restraint     0\n",
       "seatpos       0\n",
       "sex           0\n",
       "body          0\n",
       "inimpact      1\n",
       "mhevent       0\n",
       "vfatcount     0\n",
       "numoccs       0\n",
       "travspd       1\n",
       "make          0\n",
       "model         0\n",
       "modelyr       0\n",
       "dtype: int64"
      ]
     },
     "execution_count": 10,
     "metadata": {},
     "output_type": "execute_result"
    }
   ],
   "source": [
    "data.isnull().sum()"
   ]
  },
  {
   "cell_type": "code",
   "execution_count": 11,
   "id": "f2789191",
   "metadata": {},
   "outputs": [],
   "source": [
    "data.fillna(method='ffill',inplace=True)"
   ]
  },
  {
   "cell_type": "code",
   "execution_count": 12,
   "id": "7cc6d8c1",
   "metadata": {},
   "outputs": [
    {
     "data": {
      "text/plain": [
       "Unnamed: 0    0\n",
       "Obs.          0\n",
       "state         0\n",
       "casenum       0\n",
       "vnum          0\n",
       "pnum          0\n",
       "lightcond     0\n",
       "numfatal      0\n",
       "vforms        0\n",
       "age           0\n",
       "airbag        0\n",
       "injury        0\n",
       "ptype         0\n",
       "restraint     0\n",
       "seatpos       0\n",
       "sex           0\n",
       "body          0\n",
       "inimpact      0\n",
       "mhevent       0\n",
       "vfatcount     0\n",
       "numoccs       0\n",
       "travspd       0\n",
       "make          0\n",
       "model         0\n",
       "modelyr       0\n",
       "dtype: int64"
      ]
     },
     "execution_count": 12,
     "metadata": {},
     "output_type": "execute_result"
    }
   ],
   "source": [
    "data.isnull().sum()"
   ]
  },
  {
   "cell_type": "code",
   "execution_count": 13,
   "id": "c865ae31",
   "metadata": {},
   "outputs": [
    {
     "data": {
      "text/plain": [
       "<AxesSubplot:>"
      ]
     },
     "execution_count": 13,
     "metadata": {},
     "output_type": "execute_result"
    },
    {
     "data": {
      "image/png": "[encoded data removed]",
      "text/plain": [
       "<Figure size 432x288 with 2 Axes>"
      ]
     },
     "metadata": {
      "needs_background": "light"
     },
     "output_type": "display_data"
    }
   ],
   "source": [
    "sb.heatmap(data.isnull())"
   ]
  },
  {
   "cell_type": "code",
   "execution_count": 14,
   "id": "f22abdda",
   "metadata": {},
   "outputs": [
    {
     "data": {
      "text/plain": [
       "0"
      ]
     },
     "execution_count": 14,
     "metadata": {},
     "output_type": "execute_result"
    }
   ],
   "source": [
    "data.duplicated().sum()"
   ]
  },
  {
   "cell_type": "code",
   "execution_count": 15,
   "id": "ea89ce4c",
   "metadata": {},
   "outputs": [
    {
     "data": {
      "text/plain": [
       "0"
      ]
     },
     "execution_count": 15,
     "metadata": {},
     "output_type": "execute_result"
    }
   ],
   "source": [
    "data.age.min()"
   ]
  },
  {
   "cell_type": "code",
   "execution_count": 16,
   "id": "888158db",
   "metadata": {},
   "outputs": [
    {
     "data": {
      "text/plain": [
       "99"
      ]
     },
     "execution_count": 16,
     "metadata": {},
     "output_type": "execute_result"
    }
   ],
   "source": [
    "data.age.max()"
   ]
  },
  {
   "cell_type": "code",
   "execution_count": 17,
   "id": "697631a7",
   "metadata": {},
   "outputs": [
    {
     "data": {
      "text/plain": [
       "60519"
      ]
     },
     "execution_count": 17,
     "metadata": {},
     "output_type": "execute_result"
    }
   ],
   "source": [
    "sum(data['age']<60)"
   ]
  },
  {
   "cell_type": "code",
   "execution_count": 18,
   "id": "7926da47",
   "metadata": {},
   "outputs": [
    {
     "data": {
      "text/html": [
       "<div>\n",
       "<style scoped>\n",
       "    .dataframe tbody tr th:only-of-type {\n",
       "        vertical-align: middle;\n",
       "    }\n",
       "\n",
       "    .dataframe tbody tr th {\n",
       "        vertical-align: top;\n",
       "    }\n",
       "\n",
       "    .dataframe thead th {\n",
       "        text-align: right;\n",
       "    }\n",
       "</style>\n",
       "<table border=\"1\" class=\"dataframe\">\n",
       "  <thead>\n",
       "    <tr style=\"text-align: right;\">\n",
       "      <th></th>\n",
       "      <th>Unnamed: 0</th>\n",
       "      <th>Obs.</th>\n",
       "      <th>state</th>\n",
       "      <th>casenum</th>\n",
       "      <th>vnum</th>\n",
       "      <th>pnum</th>\n",
       "      <th>lightcond</th>\n",
       "      <th>numfatal</th>\n",
       "      <th>vforms</th>\n",
       "      <th>age</th>\n",
       "      <th>...</th>\n",
       "      <th>sex</th>\n",
       "      <th>body</th>\n",
       "      <th>inimpact</th>\n",
       "      <th>mhevent</th>\n",
       "      <th>vfatcount</th>\n",
       "      <th>numoccs</th>\n",
       "      <th>travspd</th>\n",
       "      <th>make</th>\n",
       "      <th>model</th>\n",
       "      <th>modelyr</th>\n",
       "    </tr>\n",
       "  </thead>\n",
       "  <tbody>\n",
       "    <tr>\n",
       "      <th>count</th>\n",
       "      <td>72548.000000</td>\n",
       "      <td>72548.000000</td>\n",
       "      <td>72548.000000</td>\n",
       "      <td>72548.000000</td>\n",
       "      <td>72548.000000</td>\n",
       "      <td>72548.000000</td>\n",
       "      <td>72548.000000</td>\n",
       "      <td>72548.000000</td>\n",
       "      <td>72548.000000</td>\n",
       "      <td>72548.000000</td>\n",
       "      <td>...</td>\n",
       "      <td>72548.000000</td>\n",
       "      <td>72548.000000</td>\n",
       "      <td>72548.000000</td>\n",
       "      <td>72548.000000</td>\n",
       "      <td>72548.000000</td>\n",
       "      <td>72548.000000</td>\n",
       "      <td>72548.000000</td>\n",
       "      <td>72548.000000</td>\n",
       "      <td>72548.000000</td>\n",
       "      <td>72548.000000</td>\n",
       "    </tr>\n",
       "    <tr>\n",
       "      <th>mean</th>\n",
       "      <td>36274.500000</td>\n",
       "      <td>36274.500000</td>\n",
       "      <td>27.145200</td>\n",
       "      <td>768.698062</td>\n",
       "      <td>1.574130</td>\n",
       "      <td>1.257030</td>\n",
       "      <td>1.757788</td>\n",
       "      <td>1.169102</td>\n",
       "      <td>2.131678</td>\n",
       "      <td>40.035094</td>\n",
       "      <td>...</td>\n",
       "      <td>1.404918</td>\n",
       "      <td>23.301511</td>\n",
       "      <td>11.092518</td>\n",
       "      <td>13.937228</td>\n",
       "      <td>0.678172</td>\n",
       "      <td>1.961405</td>\n",
       "      <td>77.992763</td>\n",
       "      <td>31.425305</td>\n",
       "      <td>328.979931</td>\n",
       "      <td>2112.403967</td>\n",
       "    </tr>\n",
       "    <tr>\n",
       "      <th>std</th>\n",
       "      <td>20942.948002</td>\n",
       "      <td>20942.948002</td>\n",
       "      <td>16.269686</td>\n",
       "      <td>790.128287</td>\n",
       "      <td>2.870907</td>\n",
       "      <td>0.530776</td>\n",
       "      <td>1.027244</td>\n",
       "      <td>0.619070</td>\n",
       "      <td>4.810688</td>\n",
       "      <td>20.032641</td>\n",
       "      <td>...</td>\n",
       "      <td>0.966510</td>\n",
       "      <td>25.418954</td>\n",
       "      <td>13.661467</td>\n",
       "      <td>11.761918</td>\n",
       "      <td>0.647012</td>\n",
       "      <td>3.645992</td>\n",
       "      <td>28.786856</td>\n",
       "      <td>24.257738</td>\n",
       "      <td>291.308417</td>\n",
       "      <td>945.549699</td>\n",
       "    </tr>\n",
       "    <tr>\n",
       "      <th>min</th>\n",
       "      <td>1.000000</td>\n",
       "      <td>1.000000</td>\n",
       "      <td>1.000000</td>\n",
       "      <td>1.000000</td>\n",
       "      <td>1.000000</td>\n",
       "      <td>1.000000</td>\n",
       "      <td>1.000000</td>\n",
       "      <td>1.000000</td>\n",
       "      <td>1.000000</td>\n",
       "      <td>0.000000</td>\n",
       "      <td>...</td>\n",
       "      <td>1.000000</td>\n",
       "      <td>1.000000</td>\n",
       "      <td>0.000000</td>\n",
       "      <td>1.000000</td>\n",
       "      <td>0.000000</td>\n",
       "      <td>1.000000</td>\n",
       "      <td>0.000000</td>\n",
       "      <td>1.000000</td>\n",
       "      <td>1.000000</td>\n",
       "      <td>1924.000000</td>\n",
       "    </tr>\n",
       "    <tr>\n",
       "      <th>25%</th>\n",
       "      <td>18137.750000</td>\n",
       "      <td>18137.750000</td>\n",
       "      <td>12.000000</td>\n",
       "      <td>214.000000</td>\n",
       "      <td>1.000000</td>\n",
       "      <td>1.000000</td>\n",
       "      <td>1.000000</td>\n",
       "      <td>1.000000</td>\n",
       "      <td>1.000000</td>\n",
       "      <td>23.000000</td>\n",
       "      <td>...</td>\n",
       "      <td>1.000000</td>\n",
       "      <td>4.000000</td>\n",
       "      <td>6.000000</td>\n",
       "      <td>8.000000</td>\n",
       "      <td>0.000000</td>\n",
       "      <td>1.000000</td>\n",
       "      <td>55.000000</td>\n",
       "      <td>12.000000</td>\n",
       "      <td>32.000000</td>\n",
       "      <td>1996.000000</td>\n",
       "    </tr>\n",
       "    <tr>\n",
       "      <th>50%</th>\n",
       "      <td>36274.500000</td>\n",
       "      <td>36274.500000</td>\n",
       "      <td>27.000000</td>\n",
       "      <td>502.000000</td>\n",
       "      <td>1.000000</td>\n",
       "      <td>1.000000</td>\n",
       "      <td>1.000000</td>\n",
       "      <td>1.000000</td>\n",
       "      <td>2.000000</td>\n",
       "      <td>36.000000</td>\n",
       "      <td>...</td>\n",
       "      <td>1.000000</td>\n",
       "      <td>14.000000</td>\n",
       "      <td>12.000000</td>\n",
       "      <td>12.000000</td>\n",
       "      <td>1.000000</td>\n",
       "      <td>1.000000</td>\n",
       "      <td>98.000000</td>\n",
       "      <td>20.000000</td>\n",
       "      <td>402.000000</td>\n",
       "      <td>2000.000000</td>\n",
       "    </tr>\n",
       "    <tr>\n",
       "      <th>75%</th>\n",
       "      <td>54411.250000</td>\n",
       "      <td>54411.250000</td>\n",
       "      <td>42.000000</td>\n",
       "      <td>982.000000</td>\n",
       "      <td>2.000000</td>\n",
       "      <td>1.000000</td>\n",
       "      <td>2.000000</td>\n",
       "      <td>1.000000</td>\n",
       "      <td>2.000000</td>\n",
       "      <td>52.000000</td>\n",
       "      <td>...</td>\n",
       "      <td>2.000000</td>\n",
       "      <td>31.000000</td>\n",
       "      <td>12.000000</td>\n",
       "      <td>12.000000</td>\n",
       "      <td>1.000000</td>\n",
       "      <td>2.000000</td>\n",
       "      <td>98.000000</td>\n",
       "      <td>49.000000</td>\n",
       "      <td>481.000000</td>\n",
       "      <td>2004.000000</td>\n",
       "    </tr>\n",
       "    <tr>\n",
       "      <th>max</th>\n",
       "      <td>72548.000000</td>\n",
       "      <td>72548.000000</td>\n",
       "      <td>56.000000</td>\n",
       "      <td>3598.000000</td>\n",
       "      <td>92.000000</td>\n",
       "      <td>16.000000</td>\n",
       "      <td>9.000000</td>\n",
       "      <td>12.000000</td>\n",
       "      <td>92.000000</td>\n",
       "      <td>99.000000</td>\n",
       "      <td>...</td>\n",
       "      <td>9.000000</td>\n",
       "      <td>99.000000</td>\n",
       "      <td>99.000000</td>\n",
       "      <td>99.000000</td>\n",
       "      <td>8.000000</td>\n",
       "      <td>99.000000</td>\n",
       "      <td>99.000000</td>\n",
       "      <td>99.000000</td>\n",
       "      <td>999.000000</td>\n",
       "      <td>9999.000000</td>\n",
       "    </tr>\n",
       "  </tbody>\n",
       "</table>\n",
       "<p>8 rows × 25 columns</p>\n",
       "</div>"
      ],
      "text/plain": [
       "         Unnamed: 0          Obs.         state       casenum          vnum  \\\n",
       "count  72548.000000  72548.000000  72548.000000  72548.000000  72548.000000   \n",
       "mean   36274.500000  36274.500000     27.145200    768.698062      1.574130   \n",
       "std    20942.948002  20942.948002     16.269686    790.128287      2.870907   \n",
       "min        1.000000      1.000000      1.000000      1.000000      1.000000   \n",
       "25%    18137.750000  18137.750000     12.000000    214.000000      1.000000   \n",
       "50%    36274.500000  36274.500000     27.000000    502.000000      1.000000   \n",
       "75%    54411.250000  54411.250000     42.000000    982.000000      2.000000   \n",
       "max    72548.000000  72548.000000     56.000000   3598.000000     92.000000   \n",
       "\n",
       "               pnum     lightcond      numfatal        vforms           age  \\\n",
       "count  72548.000000  72548.000000  72548.000000  72548.000000  72548.000000   \n",
       "mean       1.257030      1.757788      1.169102      2.131678     40.035094   \n",
       "std        0.530776      1.027244      0.619070      4.810688     20.032641   \n",
       "min        1.000000      1.000000      1.000000      1.000000      0.000000   \n",
       "25%        1.000000      1.000000      1.000000      1.000000     23.000000   \n",
       "50%        1.000000      1.000000      1.000000      2.000000     36.000000   \n",
       "75%        1.000000      2.000000      1.000000      2.000000     52.000000   \n",
       "max       16.000000      9.000000     12.000000     92.000000     99.000000   \n",
       "\n",
       "       ...           sex          body      inimpact       mhevent  \\\n",
       "count  ...  72548.000000  72548.000000  72548.000000  72548.000000   \n",
       "mean   ...      1.404918     23.301511     11.092518     13.937228   \n",
       "std    ...      0.966510     25.418954     13.661467     11.761918   \n",
       "min    ...      1.000000      1.000000      0.000000      1.000000   \n",
       "25%    ...      1.000000      4.000000      6.000000      8.000000   \n",
       "50%    ...      1.000000     14.000000     12.000000     12.000000   \n",
       "75%    ...      2.000000     31.000000     12.000000     12.000000   \n",
       "max    ...      9.000000     99.000000     99.000000     99.000000   \n",
       "\n",
       "          vfatcount       numoccs       travspd          make         model  \\\n",
       "count  72548.000000  72548.000000  72548.000000  72548.000000  72548.000000   \n",
       "mean       0.678172      1.961405     77.992763     31.425305    328.979931   \n",
       "std        0.647012      3.645992     28.786856     24.257738    291.308417   \n",
       "min        0.000000      1.000000      0.000000      1.000000      1.000000   \n",
       "25%        0.000000      1.000000     55.000000     12.000000     32.000000   \n",
       "50%        1.000000      1.000000     98.000000     20.000000    402.000000   \n",
       "75%        1.000000      2.000000     98.000000     49.000000    481.000000   \n",
       "max        8.000000     99.000000     99.000000     99.000000    999.000000   \n",
       "\n",
       "            modelyr  \n",
       "count  72548.000000  \n",
       "mean    2112.403967  \n",
       "std      945.549699  \n",
       "min     1924.000000  \n",
       "25%     1996.000000  \n",
       "50%     2000.000000  \n",
       "75%     2004.000000  \n",
       "max     9999.000000  \n",
       "\n",
       "[8 rows x 25 columns]"
      ]
     },
     "execution_count": 18,
     "metadata": {},
     "output_type": "execute_result"
    }
   ],
   "source": [
    "data.describe()"
   ]
  },
  {
   "cell_type": "code",
   "execution_count": 19,
   "id": "394faeda",
   "metadata": {},
   "outputs": [
    {
     "data": {
      "text/html": [
       "<div>\n",
       "<style scoped>\n",
       "    .dataframe tbody tr th:only-of-type {\n",
       "        vertical-align: middle;\n",
       "    }\n",
       "\n",
       "    .dataframe tbody tr th {\n",
       "        vertical-align: top;\n",
       "    }\n",
       "\n",
       "    .dataframe thead th {\n",
       "        text-align: right;\n",
       "    }\n",
       "</style>\n",
       "<table border=\"1\" class=\"dataframe\">\n",
       "  <thead>\n",
       "    <tr style=\"text-align: right;\">\n",
       "      <th></th>\n",
       "      <th>Unnamed: 0</th>\n",
       "      <th>Obs.</th>\n",
       "      <th>state</th>\n",
       "      <th>casenum</th>\n",
       "      <th>vnum</th>\n",
       "      <th>pnum</th>\n",
       "      <th>lightcond</th>\n",
       "      <th>numfatal</th>\n",
       "      <th>vforms</th>\n",
       "      <th>age</th>\n",
       "      <th>...</th>\n",
       "      <th>sex</th>\n",
       "      <th>body</th>\n",
       "      <th>inimpact</th>\n",
       "      <th>mhevent</th>\n",
       "      <th>vfatcount</th>\n",
       "      <th>numoccs</th>\n",
       "      <th>travspd</th>\n",
       "      <th>make</th>\n",
       "      <th>model</th>\n",
       "      <th>modelyr</th>\n",
       "    </tr>\n",
       "  </thead>\n",
       "  <tbody>\n",
       "    <tr>\n",
       "      <th>Unnamed: 0</th>\n",
       "      <td>1.000000</td>\n",
       "      <td>1.000000</td>\n",
       "      <td>0.996026</td>\n",
       "      <td>-0.130145</td>\n",
       "      <td>-0.037249</td>\n",
       "      <td>-0.019675</td>\n",
       "      <td>-0.037547</td>\n",
       "      <td>-0.007182</td>\n",
       "      <td>-0.043256</td>\n",
       "      <td>-0.007833</td>\n",
       "      <td>...</td>\n",
       "      <td>-0.040048</td>\n",
       "      <td>0.005908</td>\n",
       "      <td>-0.039654</td>\n",
       "      <td>0.029998</td>\n",
       "      <td>0.029182</td>\n",
       "      <td>-0.050205</td>\n",
       "      <td>0.099737</td>\n",
       "      <td>-0.035546</td>\n",
       "      <td>0.009508</td>\n",
       "      <td>-0.026172</td>\n",
       "    </tr>\n",
       "    <tr>\n",
       "      <th>Obs.</th>\n",
       "      <td>1.000000</td>\n",
       "      <td>1.000000</td>\n",
       "      <td>0.996026</td>\n",
       "      <td>-0.130145</td>\n",
       "      <td>-0.037249</td>\n",
       "      <td>-0.019675</td>\n",
       "      <td>-0.037547</td>\n",
       "      <td>-0.007182</td>\n",
       "      <td>-0.043256</td>\n",
       "      <td>-0.007833</td>\n",
       "      <td>...</td>\n",
       "      <td>-0.040048</td>\n",
       "      <td>0.005908</td>\n",
       "      <td>-0.039654</td>\n",
       "      <td>0.029998</td>\n",
       "      <td>0.029182</td>\n",
       "      <td>-0.050205</td>\n",
       "      <td>0.099737</td>\n",
       "      <td>-0.035546</td>\n",
       "      <td>0.009508</td>\n",
       "      <td>-0.026172</td>\n",
       "    </tr>\n",
       "    <tr>\n",
       "      <th>state</th>\n",
       "      <td>0.996026</td>\n",
       "      <td>0.996026</td>\n",
       "      <td>1.000000</td>\n",
       "      <td>-0.169619</td>\n",
       "      <td>-0.042686</td>\n",
       "      <td>-0.019160</td>\n",
       "      <td>-0.035651</td>\n",
       "      <td>-0.008284</td>\n",
       "      <td>-0.049529</td>\n",
       "      <td>-0.008091</td>\n",
       "      <td>...</td>\n",
       "      <td>-0.039105</td>\n",
       "      <td>0.004823</td>\n",
       "      <td>-0.035030</td>\n",
       "      <td>0.030727</td>\n",
       "      <td>0.029786</td>\n",
       "      <td>-0.046259</td>\n",
       "      <td>0.092884</td>\n",
       "      <td>-0.035071</td>\n",
       "      <td>0.008256</td>\n",
       "      <td>-0.026174</td>\n",
       "    </tr>\n",
       "    <tr>\n",
       "      <th>casenum</th>\n",
       "      <td>-0.130145</td>\n",
       "      <td>-0.130145</td>\n",
       "      <td>-0.169619</td>\n",
       "      <td>1.000000</td>\n",
       "      <td>0.097770</td>\n",
       "      <td>0.005045</td>\n",
       "      <td>0.047259</td>\n",
       "      <td>-0.002047</td>\n",
       "      <td>0.112569</td>\n",
       "      <td>0.013166</td>\n",
       "      <td>...</td>\n",
       "      <td>0.027357</td>\n",
       "      <td>0.013916</td>\n",
       "      <td>0.030198</td>\n",
       "      <td>-0.023877</td>\n",
       "      <td>-0.053829</td>\n",
       "      <td>0.002367</td>\n",
       "      <td>-0.070224</td>\n",
       "      <td>0.045193</td>\n",
       "      <td>0.007585</td>\n",
       "      <td>0.034382</td>\n",
       "    </tr>\n",
       "    <tr>\n",
       "      <th>vnum</th>\n",
       "      <td>-0.037249</td>\n",
       "      <td>-0.037249</td>\n",
       "      <td>-0.042686</td>\n",
       "      <td>0.097770</td>\n",
       "      <td>1.000000</td>\n",
       "      <td>-0.003779</td>\n",
       "      <td>-0.049149</td>\n",
       "      <td>0.372480</td>\n",
       "      <td>0.859063</td>\n",
       "      <td>0.011120</td>\n",
       "      <td>...</td>\n",
       "      <td>0.010980</td>\n",
       "      <td>-0.000249</td>\n",
       "      <td>-0.010965</td>\n",
       "      <td>-0.025025</td>\n",
       "      <td>-0.115780</td>\n",
       "      <td>-0.004512</td>\n",
       "      <td>-0.056828</td>\n",
       "      <td>0.014056</td>\n",
       "      <td>0.015436</td>\n",
       "      <td>-0.000954</td>\n",
       "    </tr>\n",
       "    <tr>\n",
       "      <th>pnum</th>\n",
       "      <td>-0.019675</td>\n",
       "      <td>-0.019675</td>\n",
       "      <td>-0.019160</td>\n",
       "      <td>0.005045</td>\n",
       "      <td>-0.003779</td>\n",
       "      <td>1.000000</td>\n",
       "      <td>0.004513</td>\n",
       "      <td>0.078981</td>\n",
       "      <td>-0.006880</td>\n",
       "      <td>-0.118169</td>\n",
       "      <td>...</td>\n",
       "      <td>0.064957</td>\n",
       "      <td>-0.160723</td>\n",
       "      <td>-0.027279</td>\n",
       "      <td>-0.018804</td>\n",
       "      <td>0.130655</td>\n",
       "      <td>0.150532</td>\n",
       "      <td>-0.008042</td>\n",
       "      <td>-0.141650</td>\n",
       "      <td>-0.115111</td>\n",
       "      <td>-0.048311</td>\n",
       "    </tr>\n",
       "    <tr>\n",
       "      <th>lightcond</th>\n",
       "      <td>-0.037547</td>\n",
       "      <td>-0.037547</td>\n",
       "      <td>-0.035651</td>\n",
       "      <td>0.047259</td>\n",
       "      <td>-0.049149</td>\n",
       "      <td>0.004513</td>\n",
       "      <td>1.000000</td>\n",
       "      <td>-0.020300</td>\n",
       "      <td>-0.057528</td>\n",
       "      <td>-0.107688</td>\n",
       "      <td>...</td>\n",
       "      <td>0.039377</td>\n",
       "      <td>-0.026863</td>\n",
       "      <td>0.043482</td>\n",
       "      <td>0.031662</td>\n",
       "      <td>0.007587</td>\n",
       "      <td>0.044333</td>\n",
       "      <td>0.042835</td>\n",
       "      <td>0.013753</td>\n",
       "      <td>-0.043353</td>\n",
       "      <td>0.069463</td>\n",
       "    </tr>\n",
       "    <tr>\n",
       "      <th>numfatal</th>\n",
       "      <td>-0.007182</td>\n",
       "      <td>-0.007182</td>\n",
       "      <td>-0.008284</td>\n",
       "      <td>-0.002047</td>\n",
       "      <td>0.372480</td>\n",
       "      <td>0.078981</td>\n",
       "      <td>-0.020300</td>\n",
       "      <td>1.000000</td>\n",
       "      <td>0.441073</td>\n",
       "      <td>-0.032346</td>\n",
       "      <td>...</td>\n",
       "      <td>-0.004528</td>\n",
       "      <td>-0.055250</td>\n",
       "      <td>-0.003705</td>\n",
       "      <td>-0.012064</td>\n",
       "      <td>0.316886</td>\n",
       "      <td>0.058850</td>\n",
       "      <td>0.035831</td>\n",
       "      <td>-0.032046</td>\n",
       "      <td>-0.037474</td>\n",
       "      <td>-0.022238</td>\n",
       "    </tr>\n",
       "    <tr>\n",
       "      <th>vforms</th>\n",
       "      <td>-0.043256</td>\n",
       "      <td>-0.043256</td>\n",
       "      <td>-0.049529</td>\n",
       "      <td>0.112569</td>\n",
       "      <td>0.859063</td>\n",
       "      <td>-0.006880</td>\n",
       "      <td>-0.057528</td>\n",
       "      <td>0.441073</td>\n",
       "      <td>1.000000</td>\n",
       "      <td>0.012180</td>\n",
       "      <td>...</td>\n",
       "      <td>0.010684</td>\n",
       "      <td>-0.004846</td>\n",
       "      <td>-0.005490</td>\n",
       "      <td>-0.033162</td>\n",
       "      <td>-0.108108</td>\n",
       "      <td>-0.004754</td>\n",
       "      <td>-0.050882</td>\n",
       "      <td>0.012599</td>\n",
       "      <td>0.008071</td>\n",
       "      <td>-0.001046</td>\n",
       "    </tr>\n",
       "    <tr>\n",
       "      <th>age</th>\n",
       "      <td>-0.007833</td>\n",
       "      <td>-0.007833</td>\n",
       "      <td>-0.008091</td>\n",
       "      <td>0.013166</td>\n",
       "      <td>0.011120</td>\n",
       "      <td>-0.118169</td>\n",
       "      <td>-0.107688</td>\n",
       "      <td>-0.032346</td>\n",
       "      <td>0.012180</td>\n",
       "      <td>1.000000</td>\n",
       "      <td>...</td>\n",
       "      <td>0.299281</td>\n",
       "      <td>0.114909</td>\n",
       "      <td>0.031249</td>\n",
       "      <td>-0.025424</td>\n",
       "      <td>-0.049511</td>\n",
       "      <td>-0.005883</td>\n",
       "      <td>-0.051983</td>\n",
       "      <td>0.099716</td>\n",
       "      <td>0.102853</td>\n",
       "      <td>0.237576</td>\n",
       "    </tr>\n",
       "    <tr>\n",
       "      <th>airbag</th>\n",
       "      <td>-0.023149</td>\n",
       "      <td>-0.023149</td>\n",
       "      <td>-0.021796</td>\n",
       "      <td>0.006788</td>\n",
       "      <td>-0.001206</td>\n",
       "      <td>-0.025486</td>\n",
       "      <td>0.063649</td>\n",
       "      <td>-0.033971</td>\n",
       "      <td>-0.004834</td>\n",
       "      <td>0.125871</td>\n",
       "      <td>...</td>\n",
       "      <td>0.286636</td>\n",
       "      <td>0.359785</td>\n",
       "      <td>0.095252</td>\n",
       "      <td>-0.058367</td>\n",
       "      <td>-0.071308</td>\n",
       "      <td>0.055651</td>\n",
       "      <td>0.001913</td>\n",
       "      <td>0.273237</td>\n",
       "      <td>0.310575</td>\n",
       "      <td>0.377767</td>\n",
       "    </tr>\n",
       "    <tr>\n",
       "      <th>injury</th>\n",
       "      <td>0.030055</td>\n",
       "      <td>0.030055</td>\n",
       "      <td>0.031478</td>\n",
       "      <td>-0.050341</td>\n",
       "      <td>-0.097175</td>\n",
       "      <td>-0.049946</td>\n",
       "      <td>0.007899</td>\n",
       "      <td>0.062218</td>\n",
       "      <td>-0.084815</td>\n",
       "      <td>0.084719</td>\n",
       "      <td>...</td>\n",
       "      <td>0.078250</td>\n",
       "      <td>0.031556</td>\n",
       "      <td>0.058572</td>\n",
       "      <td>0.122717</td>\n",
       "      <td>0.613097</td>\n",
       "      <td>0.020609</td>\n",
       "      <td>0.148741</td>\n",
       "      <td>0.001929</td>\n",
       "      <td>-0.083178</td>\n",
       "      <td>0.110861</td>\n",
       "    </tr>\n",
       "    <tr>\n",
       "      <th>ptype</th>\n",
       "      <td>-0.005868</td>\n",
       "      <td>-0.005868</td>\n",
       "      <td>-0.005243</td>\n",
       "      <td>0.001996</td>\n",
       "      <td>-0.001381</td>\n",
       "      <td>0.888172</td>\n",
       "      <td>0.003746</td>\n",
       "      <td>0.073955</td>\n",
       "      <td>-0.006276</td>\n",
       "      <td>-0.112144</td>\n",
       "      <td>...</td>\n",
       "      <td>0.078765</td>\n",
       "      <td>-0.186571</td>\n",
       "      <td>-0.032700</td>\n",
       "      <td>-0.011600</td>\n",
       "      <td>0.121122</td>\n",
       "      <td>0.131668</td>\n",
       "      <td>-0.014294</td>\n",
       "      <td>-0.153872</td>\n",
       "      <td>-0.141641</td>\n",
       "      <td>-0.053896</td>\n",
       "    </tr>\n",
       "    <tr>\n",
       "      <th>restraint</th>\n",
       "      <td>-0.005226</td>\n",
       "      <td>-0.005226</td>\n",
       "      <td>-0.006815</td>\n",
       "      <td>0.000188</td>\n",
       "      <td>-0.007228</td>\n",
       "      <td>-0.014606</td>\n",
       "      <td>0.079624</td>\n",
       "      <td>0.003621</td>\n",
       "      <td>-0.002234</td>\n",
       "      <td>0.101468</td>\n",
       "      <td>...</td>\n",
       "      <td>0.265326</td>\n",
       "      <td>0.053008</td>\n",
       "      <td>0.078649</td>\n",
       "      <td>-0.008443</td>\n",
       "      <td>-0.038248</td>\n",
       "      <td>0.066921</td>\n",
       "      <td>0.060203</td>\n",
       "      <td>0.068676</td>\n",
       "      <td>0.042542</td>\n",
       "      <td>0.282119</td>\n",
       "    </tr>\n",
       "    <tr>\n",
       "      <th>seatpos</th>\n",
       "      <td>-0.006704</td>\n",
       "      <td>-0.006704</td>\n",
       "      <td>-0.006090</td>\n",
       "      <td>0.002204</td>\n",
       "      <td>-0.000646</td>\n",
       "      <td>0.877784</td>\n",
       "      <td>0.003989</td>\n",
       "      <td>0.072956</td>\n",
       "      <td>-0.005443</td>\n",
       "      <td>-0.106777</td>\n",
       "      <td>...</td>\n",
       "      <td>0.078326</td>\n",
       "      <td>-0.190437</td>\n",
       "      <td>-0.033388</td>\n",
       "      <td>-0.010102</td>\n",
       "      <td>0.119082</td>\n",
       "      <td>0.127693</td>\n",
       "      <td>-0.014107</td>\n",
       "      <td>-0.151617</td>\n",
       "      <td>-0.146347</td>\n",
       "      <td>-0.053549</td>\n",
       "    </tr>\n",
       "    <tr>\n",
       "      <th>sex</th>\n",
       "      <td>-0.040048</td>\n",
       "      <td>-0.040048</td>\n",
       "      <td>-0.039105</td>\n",
       "      <td>0.027357</td>\n",
       "      <td>0.010980</td>\n",
       "      <td>0.064957</td>\n",
       "      <td>0.039377</td>\n",
       "      <td>-0.004528</td>\n",
       "      <td>0.010684</td>\n",
       "      <td>0.299281</td>\n",
       "      <td>...</td>\n",
       "      <td>1.000000</td>\n",
       "      <td>0.053558</td>\n",
       "      <td>0.119172</td>\n",
       "      <td>-0.044037</td>\n",
       "      <td>-0.089602</td>\n",
       "      <td>0.132404</td>\n",
       "      <td>0.005361</td>\n",
       "      <td>0.111785</td>\n",
       "      <td>0.029915</td>\n",
       "      <td>0.597524</td>\n",
       "    </tr>\n",
       "    <tr>\n",
       "      <th>body</th>\n",
       "      <td>0.005908</td>\n",
       "      <td>0.005908</td>\n",
       "      <td>0.004823</td>\n",
       "      <td>0.013916</td>\n",
       "      <td>-0.000249</td>\n",
       "      <td>-0.160723</td>\n",
       "      <td>-0.026863</td>\n",
       "      <td>-0.055250</td>\n",
       "      <td>-0.004846</td>\n",
       "      <td>0.114909</td>\n",
       "      <td>...</td>\n",
       "      <td>0.053558</td>\n",
       "      <td>1.000000</td>\n",
       "      <td>0.102907</td>\n",
       "      <td>-0.027953</td>\n",
       "      <td>-0.091616</td>\n",
       "      <td>-0.038047</td>\n",
       "      <td>0.014407</td>\n",
       "      <td>0.599930</td>\n",
       "      <td>0.894320</td>\n",
       "      <td>0.293381</td>\n",
       "    </tr>\n",
       "    <tr>\n",
       "      <th>inimpact</th>\n",
       "      <td>-0.039654</td>\n",
       "      <td>-0.039654</td>\n",
       "      <td>-0.035030</td>\n",
       "      <td>0.030198</td>\n",
       "      <td>-0.010965</td>\n",
       "      <td>-0.027279</td>\n",
       "      <td>0.043482</td>\n",
       "      <td>-0.003705</td>\n",
       "      <td>-0.005490</td>\n",
       "      <td>0.031249</td>\n",
       "      <td>...</td>\n",
       "      <td>0.119172</td>\n",
       "      <td>0.102907</td>\n",
       "      <td>1.000000</td>\n",
       "      <td>0.042883</td>\n",
       "      <td>-0.021243</td>\n",
       "      <td>0.043766</td>\n",
       "      <td>0.049198</td>\n",
       "      <td>0.073162</td>\n",
       "      <td>0.077904</td>\n",
       "      <td>0.155541</td>\n",
       "    </tr>\n",
       "    <tr>\n",
       "      <th>mhevent</th>\n",
       "      <td>0.029998</td>\n",
       "      <td>0.029998</td>\n",
       "      <td>0.030727</td>\n",
       "      <td>-0.023877</td>\n",
       "      <td>-0.025025</td>\n",
       "      <td>-0.018804</td>\n",
       "      <td>0.031662</td>\n",
       "      <td>-0.012064</td>\n",
       "      <td>-0.033162</td>\n",
       "      <td>-0.025424</td>\n",
       "      <td>...</td>\n",
       "      <td>-0.044037</td>\n",
       "      <td>-0.027953</td>\n",
       "      <td>0.042883</td>\n",
       "      <td>1.000000</td>\n",
       "      <td>0.124841</td>\n",
       "      <td>-0.014683</td>\n",
       "      <td>0.042185</td>\n",
       "      <td>0.000528</td>\n",
       "      <td>-0.079137</td>\n",
       "      <td>-0.022888</td>\n",
       "    </tr>\n",
       "    <tr>\n",
       "      <th>vfatcount</th>\n",
       "      <td>0.029182</td>\n",
       "      <td>0.029182</td>\n",
       "      <td>0.029786</td>\n",
       "      <td>-0.053829</td>\n",
       "      <td>-0.115780</td>\n",
       "      <td>0.130655</td>\n",
       "      <td>0.007587</td>\n",
       "      <td>0.316886</td>\n",
       "      <td>-0.108108</td>\n",
       "      <td>-0.049511</td>\n",
       "      <td>...</td>\n",
       "      <td>-0.089602</td>\n",
       "      <td>-0.091616</td>\n",
       "      <td>-0.021243</td>\n",
       "      <td>0.124841</td>\n",
       "      <td>1.000000</td>\n",
       "      <td>0.071146</td>\n",
       "      <td>0.121016</td>\n",
       "      <td>-0.080356</td>\n",
       "      <td>-0.169934</td>\n",
       "      <td>-0.078303</td>\n",
       "    </tr>\n",
       "    <tr>\n",
       "      <th>numoccs</th>\n",
       "      <td>-0.050205</td>\n",
       "      <td>-0.050205</td>\n",
       "      <td>-0.046259</td>\n",
       "      <td>0.002367</td>\n",
       "      <td>-0.004512</td>\n",
       "      <td>0.150532</td>\n",
       "      <td>0.044333</td>\n",
       "      <td>0.058850</td>\n",
       "      <td>-0.004754</td>\n",
       "      <td>-0.005883</td>\n",
       "      <td>...</td>\n",
       "      <td>0.132404</td>\n",
       "      <td>-0.038047</td>\n",
       "      <td>0.043766</td>\n",
       "      <td>-0.014683</td>\n",
       "      <td>0.071146</td>\n",
       "      <td>1.000000</td>\n",
       "      <td>0.003058</td>\n",
       "      <td>-0.029087</td>\n",
       "      <td>-0.011090</td>\n",
       "      <td>0.117989</td>\n",
       "    </tr>\n",
       "    <tr>\n",
       "      <th>travspd</th>\n",
       "      <td>0.099737</td>\n",
       "      <td>0.099737</td>\n",
       "      <td>0.092884</td>\n",
       "      <td>-0.070224</td>\n",
       "      <td>-0.056828</td>\n",
       "      <td>-0.008042</td>\n",
       "      <td>0.042835</td>\n",
       "      <td>0.035831</td>\n",
       "      <td>-0.050882</td>\n",
       "      <td>-0.051983</td>\n",
       "      <td>...</td>\n",
       "      <td>0.005361</td>\n",
       "      <td>0.014407</td>\n",
       "      <td>0.049198</td>\n",
       "      <td>0.042185</td>\n",
       "      <td>0.121016</td>\n",
       "      <td>0.003058</td>\n",
       "      <td>1.000000</td>\n",
       "      <td>-0.001785</td>\n",
       "      <td>0.000736</td>\n",
       "      <td>0.034576</td>\n",
       "    </tr>\n",
       "    <tr>\n",
       "      <th>make</th>\n",
       "      <td>-0.035546</td>\n",
       "      <td>-0.035546</td>\n",
       "      <td>-0.035071</td>\n",
       "      <td>0.045193</td>\n",
       "      <td>0.014056</td>\n",
       "      <td>-0.141650</td>\n",
       "      <td>0.013753</td>\n",
       "      <td>-0.032046</td>\n",
       "      <td>0.012599</td>\n",
       "      <td>0.099716</td>\n",
       "      <td>...</td>\n",
       "      <td>0.111785</td>\n",
       "      <td>0.599930</td>\n",
       "      <td>0.073162</td>\n",
       "      <td>0.000528</td>\n",
       "      <td>-0.080356</td>\n",
       "      <td>-0.029087</td>\n",
       "      <td>-0.001785</td>\n",
       "      <td>1.000000</td>\n",
       "      <td>0.459450</td>\n",
       "      <td>0.279013</td>\n",
       "    </tr>\n",
       "    <tr>\n",
       "      <th>model</th>\n",
       "      <td>0.009508</td>\n",
       "      <td>0.009508</td>\n",
       "      <td>0.008256</td>\n",
       "      <td>0.007585</td>\n",
       "      <td>0.015436</td>\n",
       "      <td>-0.115111</td>\n",
       "      <td>-0.043353</td>\n",
       "      <td>-0.037474</td>\n",
       "      <td>0.008071</td>\n",
       "      <td>0.102853</td>\n",
       "      <td>...</td>\n",
       "      <td>0.029915</td>\n",
       "      <td>0.894320</td>\n",
       "      <td>0.077904</td>\n",
       "      <td>-0.079137</td>\n",
       "      <td>-0.169934</td>\n",
       "      <td>-0.011090</td>\n",
       "      <td>0.000736</td>\n",
       "      <td>0.459450</td>\n",
       "      <td>1.000000</td>\n",
       "      <td>0.228017</td>\n",
       "    </tr>\n",
       "    <tr>\n",
       "      <th>modelyr</th>\n",
       "      <td>-0.026172</td>\n",
       "      <td>-0.026172</td>\n",
       "      <td>-0.026174</td>\n",
       "      <td>0.034382</td>\n",
       "      <td>-0.000954</td>\n",
       "      <td>-0.048311</td>\n",
       "      <td>0.069463</td>\n",
       "      <td>-0.022238</td>\n",
       "      <td>-0.001046</td>\n",
       "      <td>0.237576</td>\n",
       "      <td>...</td>\n",
       "      <td>0.597524</td>\n",
       "      <td>0.293381</td>\n",
       "      <td>0.155541</td>\n",
       "      <td>-0.022888</td>\n",
       "      <td>-0.078303</td>\n",
       "      <td>0.117989</td>\n",
       "      <td>0.034576</td>\n",
       "      <td>0.279013</td>\n",
       "      <td>0.228017</td>\n",
       "      <td>1.000000</td>\n",
       "    </tr>\n",
       "  </tbody>\n",
       "</table>\n",
       "<p>25 rows × 25 columns</p>\n",
       "</div>"
      ],
      "text/plain": [
       "            Unnamed: 0      Obs.     state   casenum      vnum      pnum  \\\n",
       "Unnamed: 0    1.000000  1.000000  0.996026 -0.130145 -0.037249 -0.019675   \n",
       "Obs.          1.000000  1.000000  0.996026 -0.130145 -0.037249 -0.019675   \n",
       "state         0.996026  0.996026  1.000000 -0.169619 -0.042686 -0.019160   \n",
       "casenum      -0.130145 -0.130145 -0.169619  1.000000  0.097770  0.005045   \n",
       "vnum         -0.037249 -0.037249 -0.042686  0.097770  1.000000 -0.003779   \n",
       "pnum         -0.019675 -0.019675 -0.019160  0.005045 -0.003779  1.000000   \n",
       "lightcond    -0.037547 -0.037547 -0.035651  0.047259 -0.049149  0.004513   \n",
       "numfatal     -0.007182 -0.007182 -0.008284 -0.002047  0.372480  0.078981   \n",
       "vforms       -0.043256 -0.043256 -0.049529  0.112569  0.859063 -0.006880   \n",
       "age          -0.007833 -0.007833 -0.008091  0.013166  0.011120 -0.118169   \n",
       "airbag       -0.023149 -0.023149 -0.021796  0.006788 -0.001206 -0.025486   \n",
       "injury        0.030055  0.030055  0.031478 -0.050341 -0.097175 -0.049946   \n",
       "ptype        -0.005868 -0.005868 -0.005243  0.001996 -0.001381  0.888172   \n",
       "restraint    -0.005226 -0.005226 -0.006815  0.000188 -0.007228 -0.014606   \n",
       "seatpos      -0.006704 -0.006704 -0.006090  0.002204 -0.000646  0.877784   \n",
       "sex          -0.040048 -0.040048 -0.039105  0.027357  0.010980  0.064957   \n",
       "body          0.005908  0.005908  0.004823  0.013916 -0.000249 -0.160723   \n",
       "inimpact     -0.039654 -0.039654 -0.035030  0.030198 -0.010965 -0.027279   \n",
       "mhevent       0.029998  0.029998  0.030727 -0.023877 -0.025025 -0.018804   \n",
       "vfatcount     0.029182  0.029182  0.029786 -0.053829 -0.115780  0.130655   \n",
       "numoccs      -0.050205 -0.050205 -0.046259  0.002367 -0.004512  0.150532   \n",
       "travspd       0.099737  0.099737  0.092884 -0.070224 -0.056828 -0.008042   \n",
       "make         -0.035546 -0.035546 -0.035071  0.045193  0.014056 -0.141650   \n",
       "model         0.009508  0.009508  0.008256  0.007585  0.015436 -0.115111   \n",
       "modelyr      -0.026172 -0.026172 -0.026174  0.034382 -0.000954 -0.048311   \n",
       "\n",
       "            lightcond  numfatal    vforms       age  ...       sex      body  \\\n",
       "Unnamed: 0  -0.037547 -0.007182 -0.043256 -0.007833  ... -0.040048  0.005908   \n",
       "Obs.        -0.037547 -0.007182 -0.043256 -0.007833  ... -0.040048  0.005908   \n",
       "state       -0.035651 -0.008284 -0.049529 -0.008091  ... -0.039105  0.004823   \n",
       "casenum      0.047259 -0.002047  0.112569  0.013166  ...  0.027357  0.013916   \n",
       "vnum        -0.049149  0.372480  0.859063  0.011120  ...  0.010980 -0.000249   \n",
       "pnum         0.004513  0.078981 -0.006880 -0.118169  ...  0.064957 -0.160723   \n",
       "lightcond    1.000000 -0.020300 -0.057528 -0.107688  ...  0.039377 -0.026863   \n",
       "numfatal    -0.020300  1.000000  0.441073 -0.032346  ... -0.004528 -0.055250   \n",
       "vforms      -0.057528  0.441073  1.000000  0.012180  ...  0.010684 -0.004846   \n",
       "age         -0.107688 -0.032346  0.012180  1.000000  ...  0.299281  0.114909   \n",
       "airbag       0.063649 -0.033971 -0.004834  0.125871  ...  0.286636  0.359785   \n",
       "injury       0.007899  0.062218 -0.084815  0.084719  ...  0.078250  0.031556   \n",
       "ptype        0.003746  0.073955 -0.006276 -0.112144  ...  0.078765 -0.186571   \n",
       "restraint    0.079624  0.003621 -0.002234  0.101468  ...  0.265326  0.053008   \n",
       "seatpos      0.003989  0.072956 -0.005443 -0.106777  ...  0.078326 -0.190437   \n",
       "sex          0.039377 -0.004528  0.010684  0.299281  ...  1.000000  0.053558   \n",
       "body        -0.026863 -0.055250 -0.004846  0.114909  ...  0.053558  1.000000   \n",
       "inimpact     0.043482 -0.003705 -0.005490  0.031249  ...  0.119172  0.102907   \n",
       "mhevent      0.031662 -0.012064 -0.033162 -0.025424  ... -0.044037 -0.027953   \n",
       "vfatcount    0.007587  0.316886 -0.108108 -0.049511  ... -0.089602 -0.091616   \n",
       "numoccs      0.044333  0.058850 -0.004754 -0.005883  ...  0.132404 -0.038047   \n",
       "travspd      0.042835  0.035831 -0.050882 -0.051983  ...  0.005361  0.014407   \n",
       "make         0.013753 -0.032046  0.012599  0.099716  ...  0.111785  0.599930   \n",
       "model       -0.043353 -0.037474  0.008071  0.102853  ...  0.029915  0.894320   \n",
       "modelyr      0.069463 -0.022238 -0.001046  0.237576  ...  0.597524  0.293381   \n",
       "\n",
       "            inimpact   mhevent  vfatcount   numoccs   travspd      make  \\\n",
       "Unnamed: 0 -0.039654  0.029998   0.029182 -0.050205  0.099737 -0.035546   \n",
       "Obs.       -0.039654  0.029998   0.029182 -0.050205  0.099737 -0.035546   \n",
       "state      -0.035030  0.030727   0.029786 -0.046259  0.092884 -0.035071   \n",
       "casenum     0.030198 -0.023877  -0.053829  0.002367 -0.070224  0.045193   \n",
       "vnum       -0.010965 -0.025025  -0.115780 -0.004512 -0.056828  0.014056   \n",
       "pnum       -0.027279 -0.018804   0.130655  0.150532 -0.008042 -0.141650   \n",
       "lightcond   0.043482  0.031662   0.007587  0.044333  0.042835  0.013753   \n",
       "numfatal   -0.003705 -0.012064   0.316886  0.058850  0.035831 -0.032046   \n",
       "vforms     -0.005490 -0.033162  -0.108108 -0.004754 -0.050882  0.012599   \n",
       "age         0.031249 -0.025424  -0.049511 -0.005883 -0.051983  0.099716   \n",
       "airbag      0.095252 -0.058367  -0.071308  0.055651  0.001913  0.273237   \n",
       "injury      0.058572  0.122717   0.613097  0.020609  0.148741  0.001929   \n",
       "ptype      -0.032700 -0.011600   0.121122  0.131668 -0.014294 -0.153872   \n",
       "restraint   0.078649 -0.008443  -0.038248  0.066921  0.060203  0.068676   \n",
       "seatpos    -0.033388 -0.010102   0.119082  0.127693 -0.014107 -0.151617   \n",
       "sex         0.119172 -0.044037  -0.089602  0.132404  0.005361  0.111785   \n",
       "body        0.102907 -0.027953  -0.091616 -0.038047  0.014407  0.599930   \n",
       "inimpact    1.000000  0.042883  -0.021243  0.043766  0.049198  0.073162   \n",
       "mhevent     0.042883  1.000000   0.124841 -0.014683  0.042185  0.000528   \n",
       "vfatcount  -0.021243  0.124841   1.000000  0.071146  0.121016 -0.080356   \n",
       "numoccs     0.043766 -0.014683   0.071146  1.000000  0.003058 -0.029087   \n",
       "travspd     0.049198  0.042185   0.121016  0.003058  1.000000 -0.001785   \n",
       "make        0.073162  0.000528  -0.080356 -0.029087 -0.001785  1.000000   \n",
       "model       0.077904 -0.079137  -0.169934 -0.011090  0.000736  0.459450   \n",
       "modelyr     0.155541 -0.022888  -0.078303  0.117989  0.034576  0.279013   \n",
       "\n",
       "               model   modelyr  \n",
       "Unnamed: 0  0.009508 -0.026172  \n",
       "Obs.        0.009508 -0.026172  \n",
       "state       0.008256 -0.026174  \n",
       "casenum     0.007585  0.034382  \n",
       "vnum        0.015436 -0.000954  \n",
       "pnum       -0.115111 -0.048311  \n",
       "lightcond  -0.043353  0.069463  \n",
       "numfatal   -0.037474 -0.022238  \n",
       "vforms      0.008071 -0.001046  \n",
       "age         0.102853  0.237576  \n",
       "airbag      0.310575  0.377767  \n",
       "injury     -0.083178  0.110861  \n",
       "ptype      -0.141641 -0.053896  \n",
       "restraint   0.042542  0.282119  \n",
       "seatpos    -0.146347 -0.053549  \n",
       "sex         0.029915  0.597524  \n",
       "body        0.894320  0.293381  \n",
       "inimpact    0.077904  0.155541  \n",
       "mhevent    -0.079137 -0.022888  \n",
       "vfatcount  -0.169934 -0.078303  \n",
       "numoccs    -0.011090  0.117989  \n",
       "travspd     0.000736  0.034576  \n",
       "make        0.459450  0.279013  \n",
       "model       1.000000  0.228017  \n",
       "modelyr     0.228017  1.000000  \n",
       "\n",
       "[25 rows x 25 columns]"
      ]
     },
     "execution_count": 19,
     "metadata": {},
     "output_type": "execute_result"
    }
   ],
   "source": [
    "data.corr()"
   ]
  },
  {
   "cell_type": "code",
   "execution_count": 20,
   "id": "9c17d0fa",
   "metadata": {},
   "outputs": [
    {
     "data": {
      "text/plain": [
       "<AxesSubplot:>"
      ]
     },
     "execution_count": 20,
     "metadata": {},
     "output_type": "execute_result"
    },
    {
     "data": {
      "image/png": "[encoded data removed]",
      "text/plain": [
       "<Figure size 432x288 with 2 Axes>"
      ]
     },
     "metadata": {
      "needs_background": "light"
     },
     "output_type": "display_data"
    }
   ],
   "source": [
    "sb.heatmap(data.corr(),annot=True)"
   ]
  },
  {
   "cell_type": "code",
   "execution_count": 21,
   "id": "e93f8c89",
   "metadata": {},
   "outputs": [
    {
     "data": {
      "text/html": [
       "<div>\n",
       "<style scoped>\n",
       "    .dataframe tbody tr th:only-of-type {\n",
       "        vertical-align: middle;\n",
       "    }\n",
       "\n",
       "    .dataframe tbody tr th {\n",
       "        vertical-align: top;\n",
       "    }\n",
       "\n",
       "    .dataframe thead th {\n",
       "        text-align: right;\n",
       "    }\n",
       "</style>\n",
       "<table border=\"1\" class=\"dataframe\">\n",
       "  <thead>\n",
       "    <tr style=\"text-align: right;\">\n",
       "      <th>numoccs</th>\n",
       "      <th>1</th>\n",
       "      <th>2</th>\n",
       "      <th>3</th>\n",
       "      <th>4</th>\n",
       "      <th>5</th>\n",
       "      <th>6</th>\n",
       "      <th>7</th>\n",
       "      <th>8</th>\n",
       "      <th>9</th>\n",
       "      <th>10</th>\n",
       "      <th>...</th>\n",
       "      <th>27</th>\n",
       "      <th>29</th>\n",
       "      <th>31</th>\n",
       "      <th>35</th>\n",
       "      <th>45</th>\n",
       "      <th>47</th>\n",
       "      <th>56</th>\n",
       "      <th>66</th>\n",
       "      <th>97</th>\n",
       "      <th>99</th>\n",
       "    </tr>\n",
       "    <tr>\n",
       "      <th>ptype</th>\n",
       "      <th></th>\n",
       "      <th></th>\n",
       "      <th></th>\n",
       "      <th></th>\n",
       "      <th></th>\n",
       "      <th></th>\n",
       "      <th></th>\n",
       "      <th></th>\n",
       "      <th></th>\n",
       "      <th></th>\n",
       "      <th></th>\n",
       "      <th></th>\n",
       "      <th></th>\n",
       "      <th></th>\n",
       "      <th></th>\n",
       "      <th></th>\n",
       "      <th></th>\n",
       "      <th></th>\n",
       "      <th></th>\n",
       "      <th></th>\n",
       "      <th></th>\n",
       "    </tr>\n",
       "  </thead>\n",
       "  <tbody>\n",
       "    <tr>\n",
       "      <th>1</th>\n",
       "      <td>37463</td>\n",
       "      <td>11519</td>\n",
       "      <td>3643</td>\n",
       "      <td>1875</td>\n",
       "      <td>809</td>\n",
       "      <td>317</td>\n",
       "      <td>133</td>\n",
       "      <td>68</td>\n",
       "      <td>28</td>\n",
       "      <td>18</td>\n",
       "      <td>...</td>\n",
       "      <td>1</td>\n",
       "      <td>1</td>\n",
       "      <td>1</td>\n",
       "      <td>2</td>\n",
       "      <td>1</td>\n",
       "      <td>1</td>\n",
       "      <td>1</td>\n",
       "      <td>1</td>\n",
       "      <td>1</td>\n",
       "      <td>74</td>\n",
       "    </tr>\n",
       "    <tr>\n",
       "      <th>2</th>\n",
       "      <td>13</td>\n",
       "      <td>9830</td>\n",
       "      <td>3425</td>\n",
       "      <td>1810</td>\n",
       "      <td>820</td>\n",
       "      <td>360</td>\n",
       "      <td>141</td>\n",
       "      <td>69</td>\n",
       "      <td>29</td>\n",
       "      <td>18</td>\n",
       "      <td>...</td>\n",
       "      <td>0</td>\n",
       "      <td>0</td>\n",
       "      <td>0</td>\n",
       "      <td>0</td>\n",
       "      <td>0</td>\n",
       "      <td>0</td>\n",
       "      <td>0</td>\n",
       "      <td>0</td>\n",
       "      <td>0</td>\n",
       "      <td>14</td>\n",
       "    </tr>\n",
       "  </tbody>\n",
       "</table>\n",
       "<p>2 rows × 34 columns</p>\n",
       "</div>"
      ],
      "text/plain": [
       "numoccs     1      2     3     4    5    6    7   8   9   10  ...  27  29  31  \\\n",
       "ptype                                                         ...               \n",
       "1        37463  11519  3643  1875  809  317  133  68  28  18  ...   1   1   1   \n",
       "2           13   9830  3425  1810  820  360  141  69  29  18  ...   0   0   0   \n",
       "\n",
       "numoccs  35  45  47  56  66  97  99  \n",
       "ptype                                \n",
       "1         2   1   1   1   1   1  74  \n",
       "2         0   0   0   0   0   0  14  \n",
       "\n",
       "[2 rows x 34 columns]"
      ]
     },
     "execution_count": 21,
     "metadata": {},
     "output_type": "execute_result"
    }
   ],
   "source": [
    "pd.crosstab(index=data['ptype'],columns=data['numoccs'])"
   ]
  },
  {
   "cell_type": "code",
   "execution_count": 22,
   "id": "36561735",
   "metadata": {},
   "outputs": [
    {
     "data": {
      "text/plain": [
       "1    56000\n",
       "2    16548\n",
       "Name: ptype, dtype: int64"
      ]
     },
     "execution_count": 22,
     "metadata": {},
     "output_type": "execute_result"
    }
   ],
   "source": [
    "data.ptype.value_counts()"
   ]
  },
  {
   "cell_type": "code",
   "execution_count": 23,
   "id": "08b2e91b",
   "metadata": {},
   "outputs": [
    {
     "data": {
      "text/html": [
       "<div>\n",
       "<style scoped>\n",
       "    .dataframe tbody tr th:only-of-type {\n",
       "        vertical-align: middle;\n",
       "    }\n",
       "\n",
       "    .dataframe tbody tr th {\n",
       "        vertical-align: top;\n",
       "    }\n",
       "\n",
       "    .dataframe thead th {\n",
       "        text-align: right;\n",
       "    }\n",
       "</style>\n",
       "<table border=\"1\" class=\"dataframe\">\n",
       "  <thead>\n",
       "    <tr style=\"text-align: right;\">\n",
       "      <th></th>\n",
       "      <th>Unnamed: 0</th>\n",
       "      <th>Obs.</th>\n",
       "      <th>state</th>\n",
       "      <th>casenum</th>\n",
       "      <th>vnum</th>\n",
       "      <th>pnum</th>\n",
       "      <th>lightcond</th>\n",
       "      <th>numfatal</th>\n",
       "      <th>vforms</th>\n",
       "      <th>age</th>\n",
       "      <th>...</th>\n",
       "      <th>sex</th>\n",
       "      <th>body</th>\n",
       "      <th>inimpact</th>\n",
       "      <th>mhevent</th>\n",
       "      <th>vfatcount</th>\n",
       "      <th>numoccs</th>\n",
       "      <th>travspd</th>\n",
       "      <th>make</th>\n",
       "      <th>model</th>\n",
       "      <th>modelyr</th>\n",
       "    </tr>\n",
       "  </thead>\n",
       "  <tbody>\n",
       "    <tr>\n",
       "      <th>0</th>\n",
       "      <td>1</td>\n",
       "      <td>1</td>\n",
       "      <td>1</td>\n",
       "      <td>1</td>\n",
       "      <td>1</td>\n",
       "      <td>1</td>\n",
       "      <td>2</td>\n",
       "      <td>1</td>\n",
       "      <td>1</td>\n",
       "      <td>26</td>\n",
       "      <td>...</td>\n",
       "      <td>1</td>\n",
       "      <td>4</td>\n",
       "      <td>9.0</td>\n",
       "      <td>42</td>\n",
       "      <td>1</td>\n",
       "      <td>1</td>\n",
       "      <td>65.0</td>\n",
       "      <td>37</td>\n",
       "      <td>32</td>\n",
       "      <td>1992</td>\n",
       "    </tr>\n",
       "    <tr>\n",
       "      <th>1</th>\n",
       "      <td>2</td>\n",
       "      <td>2</td>\n",
       "      <td>1</td>\n",
       "      <td>2</td>\n",
       "      <td>1</td>\n",
       "      <td>1</td>\n",
       "      <td>1</td>\n",
       "      <td>2</td>\n",
       "      <td>3</td>\n",
       "      <td>54</td>\n",
       "      <td>...</td>\n",
       "      <td>2</td>\n",
       "      <td>4</td>\n",
       "      <td>12.0</td>\n",
       "      <td>12</td>\n",
       "      <td>0</td>\n",
       "      <td>1</td>\n",
       "      <td>10.0</td>\n",
       "      <td>35</td>\n",
       "      <td>39</td>\n",
       "      <td>1990</td>\n",
       "    </tr>\n",
       "    <tr>\n",
       "      <th>2</th>\n",
       "      <td>3</td>\n",
       "      <td>3</td>\n",
       "      <td>1</td>\n",
       "      <td>2</td>\n",
       "      <td>2</td>\n",
       "      <td>1</td>\n",
       "      <td>1</td>\n",
       "      <td>2</td>\n",
       "      <td>3</td>\n",
       "      <td>68</td>\n",
       "      <td>...</td>\n",
       "      <td>1</td>\n",
       "      <td>4</td>\n",
       "      <td>7.0</td>\n",
       "      <td>12</td>\n",
       "      <td>2</td>\n",
       "      <td>2</td>\n",
       "      <td>55.0</td>\n",
       "      <td>19</td>\n",
       "      <td>3</td>\n",
       "      <td>1993</td>\n",
       "    </tr>\n",
       "    <tr>\n",
       "      <th>3</th>\n",
       "      <td>4</td>\n",
       "      <td>4</td>\n",
       "      <td>1</td>\n",
       "      <td>2</td>\n",
       "      <td>2</td>\n",
       "      <td>2</td>\n",
       "      <td>1</td>\n",
       "      <td>2</td>\n",
       "      <td>3</td>\n",
       "      <td>59</td>\n",
       "      <td>...</td>\n",
       "      <td>1</td>\n",
       "      <td>4</td>\n",
       "      <td>7.0</td>\n",
       "      <td>12</td>\n",
       "      <td>2</td>\n",
       "      <td>2</td>\n",
       "      <td>55.0</td>\n",
       "      <td>19</td>\n",
       "      <td>3</td>\n",
       "      <td>1993</td>\n",
       "    </tr>\n",
       "    <tr>\n",
       "      <th>4</th>\n",
       "      <td>5</td>\n",
       "      <td>5</td>\n",
       "      <td>1</td>\n",
       "      <td>2</td>\n",
       "      <td>3</td>\n",
       "      <td>1</td>\n",
       "      <td>1</td>\n",
       "      <td>2</td>\n",
       "      <td>3</td>\n",
       "      <td>69</td>\n",
       "      <td>...</td>\n",
       "      <td>1</td>\n",
       "      <td>31</td>\n",
       "      <td>12.0</td>\n",
       "      <td>12</td>\n",
       "      <td>0</td>\n",
       "      <td>1</td>\n",
       "      <td>55.0</td>\n",
       "      <td>12</td>\n",
       "      <td>481</td>\n",
       "      <td>2004</td>\n",
       "    </tr>\n",
       "  </tbody>\n",
       "</table>\n",
       "<p>5 rows × 25 columns</p>\n",
       "</div>"
      ],
      "text/plain": [
       "   Unnamed: 0  Obs.  state  casenum  vnum  pnum  lightcond  numfatal  vforms  \\\n",
       "0           1     1      1        1     1     1          2         1       1   \n",
       "1           2     2      1        2     1     1          1         2       3   \n",
       "2           3     3      1        2     2     1          1         2       3   \n",
       "3           4     4      1        2     2     2          1         2       3   \n",
       "4           5     5      1        2     3     1          1         2       3   \n",
       "\n",
       "   age  ...  sex  body  inimpact  mhevent  vfatcount  numoccs  travspd  make  \\\n",
       "0   26  ...    1     4       9.0       42          1        1     65.0    37   \n",
       "1   54  ...    2     4      12.0       12          0        1     10.0    35   \n",
       "2   68  ...    1     4       7.0       12          2        2     55.0    19   \n",
       "3   59  ...    1     4       7.0       12          2        2     55.0    19   \n",
       "4   69  ...    1    31      12.0       12          0        1     55.0    12   \n",
       "\n",
       "   model  modelyr  \n",
       "0     32     1992  \n",
       "1     39     1990  \n",
       "2      3     1993  \n",
       "3      3     1993  \n",
       "4    481     2004  \n",
       "\n",
       "[5 rows x 25 columns]"
      ]
     },
     "execution_count": 23,
     "metadata": {},
     "output_type": "execute_result"
    }
   ],
   "source": [
    "data.head()"
   ]
  },
  {
   "cell_type": "code",
   "execution_count": 24,
   "id": "e906faf4",
   "metadata": {},
   "outputs": [
    {
     "data": {
      "text/plain": [
       "2"
      ]
     },
     "execution_count": 24,
     "metadata": {},
     "output_type": "execute_result"
    }
   ],
   "source": [
    "data.at[3,'pnum']"
   ]
  },
  {
   "cell_type": "code",
   "execution_count": 25,
   "id": "d4132e10",
   "metadata": {},
   "outputs": [
    {
     "data": {
      "text/plain": [
       "69"
      ]
     },
     "execution_count": 25,
     "metadata": {},
     "output_type": "execute_result"
    }
   ],
   "source": [
    "data.iat[4,9]"
   ]
  },
  {
   "cell_type": "code",
   "execution_count": 26,
   "id": "55cb9ebd",
   "metadata": {},
   "outputs": [
    {
     "data": {
      "text/plain": [
       "<AxesSubplot:>"
      ]
     },
     "execution_count": 26,
     "metadata": {},
     "output_type": "execute_result"
    },
    {
     "data": {
      "image/png": "[encoded data removed]",
      "text/plain": [
       "<Figure size 432x288 with 1 Axes>"
      ]
     },
     "metadata": {
      "needs_background": "light"
     },
     "output_type": "display_data"
    }
   ],
   "source": [
    "data.ptype.value_counts().plot(kind='bar')"
   ]
  },
  {
   "cell_type": "code",
   "execution_count": 27,
   "id": "a7feee54",
   "metadata": {},
   "outputs": [
    {
     "name": "stderr",
     "output_type": "stream",
     "text": [
      "C:\\Users\\Sony\\anaconda3\\lib\\site-packages\\seaborn\\distributions.py:2619: FutureWarning: `distplot` is a deprecated function and will be removed in a future version. Please adapt your code to use either `displot` (a figure-level function with similar flexibility) or `histplot` (an axes-level function for histograms).\n",
      "  warnings.warn(msg, FutureWarning)\n"
     ]
    },
    {
     "data": {
      "text/plain": [
       "<AxesSubplot:xlabel='pnum', ylabel='Density'>"
      ]
     },
     "execution_count": 27,
     "metadata": {},
     "output_type": "execute_result"
    },
    {
     "data": {
      "image/png": "[encoded data removed]",
      "text/plain": [
       "<Figure size 432x288 with 1 Axes>"
      ]
     },
     "metadata": {
      "needs_background": "light"
     },
     "output_type": "display_data"
    }
   ],
   "source": [
    "sb.distplot(data['pnum'],kde=True)"
   ]
  },
  {
   "cell_type": "code",
   "execution_count": 28,
   "id": "3e5d977f",
   "metadata": {},
   "outputs": [
    {
     "name": "stderr",
     "output_type": "stream",
     "text": [
      "C:\\Users\\Sony\\anaconda3\\lib\\site-packages\\seaborn\\_decorators.py:36: FutureWarning: Pass the following variable as a keyword arg: x. From version 0.12, the only valid positional argument will be `data`, and passing other arguments without an explicit keyword will result in an error or misinterpretation.\n",
      "  warnings.warn(\n"
     ]
    },
    {
     "data": {
      "text/plain": [
       "<AxesSubplot:xlabel='numoccs'>"
      ]
     },
     "execution_count": 28,
     "metadata": {},
     "output_type": "execute_result"
    },
    {
     "data": {
      "image/png": "[encoded data removed]",
      "text/plain": [
       "<Figure size 432x288 with 1 Axes>"
      ]
     },
     "metadata": {
      "needs_background": "light"
     },
     "output_type": "display_data"
    }
   ],
   "source": [
    "sb.boxplot(data['numoccs'])"
   ]
  },
  {
   "cell_type": "code",
   "execution_count": 29,
   "id": "3ec0ccdb",
   "metadata": {},
   "outputs": [
    {
     "name": "stderr",
     "output_type": "stream",
     "text": [
      "C:\\Users\\Sony\\anaconda3\\lib\\site-packages\\seaborn\\_decorators.py:36: FutureWarning: Pass the following variable as a keyword arg: x. From version 0.12, the only valid positional argument will be `data`, and passing other arguments without an explicit keyword will result in an error or misinterpretation.\n",
      "  warnings.warn(\n"
     ]
    },
    {
     "data": {
      "text/plain": [
       "<AxesSubplot:xlabel='seatpos'>"
      ]
     },
     "execution_count": 29,
     "metadata": {},
     "output_type": "execute_result"
    },
    {
     "data": {
      "image/png": "[encoded data removed]",
      "text/plain": [
       "<Figure size 432x288 with 1 Axes>"
      ]
     },
     "metadata": {
      "needs_background": "light"
     },
     "output_type": "display_data"
    }
   ],
   "source": [
    "sb.violinplot(data['seatpos'])"
   ]
  },
  {
   "cell_type": "code",
   "execution_count": 30,
   "id": "e5699bb3",
   "metadata": {},
   "outputs": [
    {
     "name": "stderr",
     "output_type": "stream",
     "text": [
      "C:\\Users\\Sony\\anaconda3\\lib\\site-packages\\seaborn\\_decorators.py:36: FutureWarning: Pass the following variables as keyword args: x, y. From version 0.12, the only valid positional argument will be `data`, and passing other arguments without an explicit keyword will result in an error or misinterpretation.\n",
      "  warnings.warn(\n"
     ]
    },
    {
     "data": {
      "text/plain": [
       "<seaborn.axisgrid.FacetGrid at 0x212124a12e0>"
      ]
     },
     "execution_count": 30,
     "metadata": {},
     "output_type": "execute_result"
    },
    {
     "data": {
      "image/png": "[encoded data removed]",
      "text/plain": [
       "<Figure size 408.75x360 with 1 Axes>"
      ]
     },
     "metadata": {
      "needs_background": "light"
     },
     "output_type": "display_data"
    }
   ],
   "source": [
    "sb.lmplot('ptype','seatpos',data=data,hue='pnum')"
   ]
  },
  {
   "cell_type": "code",
   "execution_count": 31,
   "id": "3f686187",
   "metadata": {},
   "outputs": [
    {
     "name": "stderr",
     "output_type": "stream",
     "text": [
      "C:\\Users\\Sony\\anaconda3\\lib\\site-packages\\seaborn\\_decorators.py:36: FutureWarning: Pass the following variables as keyword args: x, y. From version 0.12, the only valid positional argument will be `data`, and passing other arguments without an explicit keyword will result in an error or misinterpretation.\n",
      "  warnings.warn(\n"
     ]
    },
    {
     "data": {
      "text/plain": [
       "<seaborn.axisgrid.FacetGrid at 0x212124a11c0>"
      ]
     },
     "execution_count": 31,
     "metadata": {},
     "output_type": "execute_result"
    },
    {
     "data": {
      "image/png": "[encoded data removed]",
      "text/plain": [
       "<Figure size 408.75x360 with 1 Axes>"
      ]
     },
     "metadata": {
      "needs_background": "light"
     },
     "output_type": "display_data"
    }
   ],
   "source": [
    "sb.lmplot('age','ptype',data=data,hue='pnum')"
   ]
  },
  {
   "cell_type": "code",
   "execution_count": 32,
   "id": "e8a29c84",
   "metadata": {},
   "outputs": [
    {
     "name": "stderr",
     "output_type": "stream",
     "text": [
      "C:\\Users\\Sony\\anaconda3\\lib\\site-packages\\seaborn\\_decorators.py:36: FutureWarning: Pass the following variable as a keyword arg: x. From version 0.12, the only valid positional argument will be `data`, and passing other arguments without an explicit keyword will result in an error or misinterpretation.\n",
      "  warnings.warn(\n"
     ]
    },
    {
     "data": {
      "text/plain": [
       "<AxesSubplot:xlabel='pnum', ylabel='count'>"
      ]
     },
     "execution_count": 32,
     "metadata": {},
     "output_type": "execute_result"
    },
    {
     "data": {
      "image/png": "[encoded data removed]",
      "text/plain": [
       "<Figure size 432x288 with 1 Axes>"
      ]
     },
     "metadata": {
      "needs_background": "light"
     },
     "output_type": "display_data"
    }
   ],
   "source": [
    "sb.countplot('pnum',data=data,hue='seatpos')"
   ]
  },
  {
   "cell_type": "code",
   "execution_count": 94,
   "id": "6cfbfedd",
   "metadata": {},
   "outputs": [
    {
     "data": {
      "text/plain": [
       "<bound method IndexOpsMixin.value_counts of 0        4\n",
       "1        1\n",
       "2        4\n",
       "3        4\n",
       "4        0\n",
       "        ..\n",
       "72543    2\n",
       "72544    4\n",
       "72545    1\n",
       "72546    2\n",
       "72547    4\n",
       "Name: injury, Length: 72548, dtype: int64>"
      ]
     },
     "execution_count": 94,
     "metadata": {},
     "output_type": "execute_result"
    }
   ],
   "source": [
    "data.injury.value_counts"
   ]
  },
  {
   "cell_type": "code",
   "execution_count": 100,
   "id": "da3526d2",
   "metadata": {},
   "outputs": [
    {
     "data": {
      "text/plain": [
       "1    38728\n",
       "0    29113\n",
       "2     3950\n",
       "3      556\n",
       "4      131\n",
       "5       52\n",
       "6        8\n",
       "7        8\n",
       "8        2\n",
       "Name: vfatcount, dtype: int64"
      ]
     },
     "execution_count": 100,
     "metadata": {},
     "output_type": "execute_result"
    }
   ],
   "source": [
    "data.vfatcount.value_counts()"
   ]
  },
  {
   "cell_type": "code",
   "execution_count": 33,
   "id": "d0a7f955",
   "metadata": {},
   "outputs": [
    {
     "data": {
      "text/plain": [
       "11    56009\n",
       "13    16035\n",
       "12      504\n",
       "Name: seatpos, dtype: int64"
      ]
     },
     "execution_count": 33,
     "metadata": {},
     "output_type": "execute_result"
    }
   ],
   "source": [
    "data.seatpos.value_counts()"
   ]
  },
  {
   "cell_type": "code",
   "execution_count": 95,
   "id": "ac7f0c99",
   "metadata": {},
   "outputs": [
    {
     "name": "stderr",
     "output_type": "stream",
     "text": [
      "C:\\Users\\Sony\\anaconda3\\lib\\site-packages\\seaborn\\distributions.py:2619: FutureWarning: `distplot` is a deprecated function and will be removed in a future version. Please adapt your code to use either `displot` (a figure-level function with similar flexibility) or `histplot` (an axes-level function for histograms).\n",
      "  warnings.warn(msg, FutureWarning)\n"
     ]
    },
    {
     "data": {
      "text/plain": [
       "<AxesSubplot:xlabel='injury', ylabel='Density'>"
      ]
     },
     "execution_count": 95,
     "metadata": {},
     "output_type": "execute_result"
    },
    {
     "data": {
      "image/png": "[encoded data removed]",
      "text/plain": [
       "<Figure size 432x288 with 1 Axes>"
      ]
     },
     "metadata": {
      "needs_background": "light"
     },
     "output_type": "display_data"
    }
   ],
   "source": [
    "sb.distplot(data['injury'],kde=True)"
   ]
  },
  {
   "cell_type": "code",
   "execution_count": 97,
   "id": "b16b9aa7",
   "metadata": {},
   "outputs": [
    {
     "name": "stderr",
     "output_type": "stream",
     "text": [
      "C:\\Users\\Sony\\anaconda3\\lib\\site-packages\\seaborn\\_decorators.py:36: FutureWarning: Pass the following variables as keyword args: x, y. From version 0.12, the only valid positional argument will be `data`, and passing other arguments without an explicit keyword will result in an error or misinterpretation.\n",
      "  warnings.warn(\n"
     ]
    },
    {
     "data": {
      "text/plain": [
       "<seaborn.axisgrid.JointGrid at 0x21222db7760>"
      ]
     },
     "execution_count": 97,
     "metadata": {},
     "output_type": "execute_result"
    },
    {
     "data": {
      "image/png": "[encoded data removed]",
      "text/plain": [
       "<Figure size 432x432 with 3 Axes>"
      ]
     },
     "metadata": {
      "needs_background": "light"
     },
     "output_type": "display_data"
    }
   ],
   "source": [
    "sb.jointplot('injury','vfatcount',data=data)"
   ]
  },
  {
   "cell_type": "code",
   "execution_count": 98,
   "id": "71be68ed",
   "metadata": {},
   "outputs": [
    {
     "name": "stderr",
     "output_type": "stream",
     "text": [
      "C:\\Users\\Sony\\anaconda3\\lib\\site-packages\\seaborn\\_decorators.py:36: FutureWarning: Pass the following variables as keyword args: x, y. From version 0.12, the only valid positional argument will be `data`, and passing other arguments without an explicit keyword will result in an error or misinterpretation.\n",
      "  warnings.warn(\n"
     ]
    },
    {
     "data": {
      "text/plain": [
       "<seaborn.axisgrid.FacetGrid at 0x21213068160>"
      ]
     },
     "execution_count": 98,
     "metadata": {},
     "output_type": "execute_result"
    },
    {
     "data": {
      "image/png": "[encoded data removed]",
      "text/plain": [
       "<Figure size 360x360 with 1 Axes>"
      ]
     },
     "metadata": {
      "needs_background": "light"
     },
     "output_type": "display_data"
    }
   ],
   "source": [
    "sb.lmplot('injury','vfatcount',data=data)"
   ]
  },
  {
   "cell_type": "code",
   "execution_count": 34,
   "id": "f4f6ad12",
   "metadata": {},
   "outputs": [
    {
     "name": "stderr",
     "output_type": "stream",
     "text": [
      "C:\\Users\\Sony\\anaconda3\\lib\\site-packages\\seaborn\\_decorators.py:36: FutureWarning: Pass the following variables as keyword args: x, y. From version 0.12, the only valid positional argument will be `data`, and passing other arguments without an explicit keyword will result in an error or misinterpretation.\n",
      "  warnings.warn(\n"
     ]
    },
    {
     "data": {
      "text/plain": [
       "<seaborn.axisgrid.JointGrid at 0x21212d3af40>"
      ]
     },
     "execution_count": 34,
     "metadata": {},
     "output_type": "execute_result"
    },
    {
     "data": {
      "image/png": "[encoded data removed]",
      "text/plain": [
       "<Figure size 432x432 with 3 Axes>"
      ]
     },
     "metadata": {
      "needs_background": "light"
     },
     "output_type": "display_data"
    }
   ],
   "source": [
    "sb.jointplot('pnum','seatpos',data=data)"
   ]
  },
  {
   "cell_type": "code",
   "execution_count": 99,
   "id": "6d27d1d2",
   "metadata": {},
   "outputs": [
    {
     "data": {
      "text/plain": [
       "<BarContainer object of 72548 artists>"
      ]
     },
     "execution_count": 99,
     "metadata": {},
     "output_type": "execute_result"
    },
    {
     "data": {
      "image/png": "[encoded data removed]",
      "text/plain": [
       "<Figure size 432x288 with 1 Axes>"
      ]
     },
     "metadata": {
      "needs_background": "light"
     },
     "output_type": "display_data"
    }
   ],
   "source": [
    "plt.bar(data.vfatcount,data.injury)"
   ]
  },
  {
   "cell_type": "code",
   "execution_count": 35,
   "id": "77db6737",
   "metadata": {},
   "outputs": [
    {
     "data": {
      "text/plain": [
       "<AxesSubplot:xlabel='seatpos', ylabel='Density'>"
      ]
     },
     "execution_count": 35,
     "metadata": {},
     "output_type": "execute_result"
    },
    {
     "data": {
      "image/png": "[encoded data removed]",
      "text/plain": [
       "<Figure size 432x288 with 1 Axes>"
      ]
     },
     "metadata": {
      "needs_background": "light"
     },
     "output_type": "display_data"
    }
   ],
   "source": [
    "sb.kdeplot(data['seatpos'],shade=True)\n",
    "sb.kdeplot(data['pnum'],shade=True)"
   ]
  },
  {
   "cell_type": "code",
   "execution_count": 36,
   "id": "d8f700b1",
   "metadata": {},
   "outputs": [
    {
     "data": {
      "text/html": [
       "<div>\n",
       "<style scoped>\n",
       "    .dataframe tbody tr th:only-of-type {\n",
       "        vertical-align: middle;\n",
       "    }\n",
       "\n",
       "    .dataframe tbody tr th {\n",
       "        vertical-align: top;\n",
       "    }\n",
       "\n",
       "    .dataframe thead th {\n",
       "        text-align: right;\n",
       "    }\n",
       "</style>\n",
       "<table border=\"1\" class=\"dataframe\">\n",
       "  <thead>\n",
       "    <tr style=\"text-align: right;\">\n",
       "      <th></th>\n",
       "      <th>Unnamed: 0</th>\n",
       "      <th>Obs.</th>\n",
       "      <th>state</th>\n",
       "      <th>casenum</th>\n",
       "      <th>vnum</th>\n",
       "      <th>pnum</th>\n",
       "      <th>lightcond</th>\n",
       "      <th>numfatal</th>\n",
       "      <th>vforms</th>\n",
       "      <th>age</th>\n",
       "      <th>...</th>\n",
       "      <th>sex</th>\n",
       "      <th>body</th>\n",
       "      <th>inimpact</th>\n",
       "      <th>mhevent</th>\n",
       "      <th>vfatcount</th>\n",
       "      <th>numoccs</th>\n",
       "      <th>travspd</th>\n",
       "      <th>make</th>\n",
       "      <th>model</th>\n",
       "      <th>modelyr</th>\n",
       "    </tr>\n",
       "  </thead>\n",
       "  <tbody>\n",
       "    <tr>\n",
       "      <th>0</th>\n",
       "      <td>1</td>\n",
       "      <td>1</td>\n",
       "      <td>1</td>\n",
       "      <td>1</td>\n",
       "      <td>1</td>\n",
       "      <td>1</td>\n",
       "      <td>2</td>\n",
       "      <td>1</td>\n",
       "      <td>1</td>\n",
       "      <td>26</td>\n",
       "      <td>...</td>\n",
       "      <td>1</td>\n",
       "      <td>4</td>\n",
       "      <td>9.0</td>\n",
       "      <td>42</td>\n",
       "      <td>1</td>\n",
       "      <td>1</td>\n",
       "      <td>65.0</td>\n",
       "      <td>37</td>\n",
       "      <td>32</td>\n",
       "      <td>1992</td>\n",
       "    </tr>\n",
       "    <tr>\n",
       "      <th>1</th>\n",
       "      <td>2</td>\n",
       "      <td>2</td>\n",
       "      <td>1</td>\n",
       "      <td>2</td>\n",
       "      <td>1</td>\n",
       "      <td>1</td>\n",
       "      <td>1</td>\n",
       "      <td>2</td>\n",
       "      <td>3</td>\n",
       "      <td>54</td>\n",
       "      <td>...</td>\n",
       "      <td>2</td>\n",
       "      <td>4</td>\n",
       "      <td>12.0</td>\n",
       "      <td>12</td>\n",
       "      <td>0</td>\n",
       "      <td>1</td>\n",
       "      <td>10.0</td>\n",
       "      <td>35</td>\n",
       "      <td>39</td>\n",
       "      <td>1990</td>\n",
       "    </tr>\n",
       "    <tr>\n",
       "      <th>2</th>\n",
       "      <td>3</td>\n",
       "      <td>3</td>\n",
       "      <td>1</td>\n",
       "      <td>2</td>\n",
       "      <td>2</td>\n",
       "      <td>1</td>\n",
       "      <td>1</td>\n",
       "      <td>2</td>\n",
       "      <td>3</td>\n",
       "      <td>68</td>\n",
       "      <td>...</td>\n",
       "      <td>1</td>\n",
       "      <td>4</td>\n",
       "      <td>7.0</td>\n",
       "      <td>12</td>\n",
       "      <td>2</td>\n",
       "      <td>2</td>\n",
       "      <td>55.0</td>\n",
       "      <td>19</td>\n",
       "      <td>3</td>\n",
       "      <td>1993</td>\n",
       "    </tr>\n",
       "    <tr>\n",
       "      <th>3</th>\n",
       "      <td>4</td>\n",
       "      <td>4</td>\n",
       "      <td>1</td>\n",
       "      <td>2</td>\n",
       "      <td>2</td>\n",
       "      <td>2</td>\n",
       "      <td>1</td>\n",
       "      <td>2</td>\n",
       "      <td>3</td>\n",
       "      <td>59</td>\n",
       "      <td>...</td>\n",
       "      <td>1</td>\n",
       "      <td>4</td>\n",
       "      <td>7.0</td>\n",
       "      <td>12</td>\n",
       "      <td>2</td>\n",
       "      <td>2</td>\n",
       "      <td>55.0</td>\n",
       "      <td>19</td>\n",
       "      <td>3</td>\n",
       "      <td>1993</td>\n",
       "    </tr>\n",
       "    <tr>\n",
       "      <th>4</th>\n",
       "      <td>5</td>\n",
       "      <td>5</td>\n",
       "      <td>1</td>\n",
       "      <td>2</td>\n",
       "      <td>3</td>\n",
       "      <td>1</td>\n",
       "      <td>1</td>\n",
       "      <td>2</td>\n",
       "      <td>3</td>\n",
       "      <td>69</td>\n",
       "      <td>...</td>\n",
       "      <td>1</td>\n",
       "      <td>31</td>\n",
       "      <td>12.0</td>\n",
       "      <td>12</td>\n",
       "      <td>0</td>\n",
       "      <td>1</td>\n",
       "      <td>55.0</td>\n",
       "      <td>12</td>\n",
       "      <td>481</td>\n",
       "      <td>2004</td>\n",
       "    </tr>\n",
       "  </tbody>\n",
       "</table>\n",
       "<p>5 rows × 25 columns</p>\n",
       "</div>"
      ],
      "text/plain": [
       "   Unnamed: 0  Obs.  state  casenum  vnum  pnum  lightcond  numfatal  vforms  \\\n",
       "0           1     1      1        1     1     1          2         1       1   \n",
       "1           2     2      1        2     1     1          1         2       3   \n",
       "2           3     3      1        2     2     1          1         2       3   \n",
       "3           4     4      1        2     2     2          1         2       3   \n",
       "4           5     5      1        2     3     1          1         2       3   \n",
       "\n",
       "   age  ...  sex  body  inimpact  mhevent  vfatcount  numoccs  travspd  make  \\\n",
       "0   26  ...    1     4       9.0       42          1        1     65.0    37   \n",
       "1   54  ...    2     4      12.0       12          0        1     10.0    35   \n",
       "2   68  ...    1     4       7.0       12          2        2     55.0    19   \n",
       "3   59  ...    1     4       7.0       12          2        2     55.0    19   \n",
       "4   69  ...    1    31      12.0       12          0        1     55.0    12   \n",
       "\n",
       "   model  modelyr  \n",
       "0     32     1992  \n",
       "1     39     1990  \n",
       "2      3     1993  \n",
       "3      3     1993  \n",
       "4    481     2004  \n",
       "\n",
       "[5 rows x 25 columns]"
      ]
     },
     "execution_count": 36,
     "metadata": {},
     "output_type": "execute_result"
    }
   ],
   "source": [
    "data.head()"
   ]
  },
  {
   "cell_type": "code",
   "execution_count": 40,
   "id": "75ae4c1b",
   "metadata": {},
   "outputs": [],
   "source": [
    "X=data.loc[:,['ptype','seatpos','numoccs']]\n",
    "Y=data.loc[:,['pnum']]"
   ]
  },
  {
   "cell_type": "code",
   "execution_count": 45,
   "id": "fbdb523c",
   "metadata": {},
   "outputs": [],
   "source": [
    "from sklearn.model_selection import train_test_split"
   ]
  },
  {
   "cell_type": "code",
   "execution_count": 46,
   "id": "72329a2e",
   "metadata": {},
   "outputs": [],
   "source": [
    "x_train,x_test,y_train,y_test=train_test_split(X,Y)"
   ]
  },
  {
   "cell_type": "code",
   "execution_count": 47,
   "id": "54868f28",
   "metadata": {},
   "outputs": [],
   "source": [
    "from sklearn.svm import SVC"
   ]
  },
  {
   "cell_type": "code",
   "execution_count": 63,
   "id": "bbb7f3b4",
   "metadata": {},
   "outputs": [],
   "source": [
    "model=SVC(kernel='rbf')"
   ]
  },
  {
   "cell_type": "code",
   "execution_count": 64,
   "id": "aca4d077",
   "metadata": {},
   "outputs": [
    {
     "name": "stderr",
     "output_type": "stream",
     "text": [
      "C:\\Users\\Sony\\anaconda3\\lib\\site-packages\\sklearn\\utils\\validation.py:63: DataConversionWarning: A column-vector y was passed when a 1d array was expected. Please change the shape of y to (n_samples, ), for example using ravel().\n",
      "  return f(*args, **kwargs)\n"
     ]
    },
    {
     "data": {
      "text/plain": [
       "SVC()"
      ]
     },
     "execution_count": 64,
     "metadata": {},
     "output_type": "execute_result"
    }
   ],
   "source": [
    "model.fit(x_train,y_train)"
   ]
  },
  {
   "cell_type": "code",
   "execution_count": 70,
   "id": "4a501b37",
   "metadata": {},
   "outputs": [
    {
     "data": {
      "text/plain": [
       "array([1, 2, 2, ..., 1, 1, 1], dtype=int64)"
      ]
     },
     "execution_count": 70,
     "metadata": {},
     "output_type": "execute_result"
    }
   ],
   "source": [
    "y_predict=model.predict(x_test)\n",
    "y_predict"
   ]
  },
  {
   "cell_type": "code",
   "execution_count": 66,
   "id": "f1691933",
   "metadata": {},
   "outputs": [],
   "source": [
    "from sklearn.metrics import accuracy_score"
   ]
  },
  {
   "cell_type": "code",
   "execution_count": 67,
   "id": "74c372b9",
   "metadata": {},
   "outputs": [
    {
     "data": {
      "text/plain": [
       "97.80559078127584"
      ]
     },
     "execution_count": 67,
     "metadata": {},
     "output_type": "execute_result"
    }
   ],
   "source": [
    "accuracy_score(y_test,y_predict)*100"
   ]
  },
  {
   "cell_type": "code",
   "execution_count": 68,
   "id": "14136f25",
   "metadata": {},
   "outputs": [],
   "source": [
    "from sklearn.ensemble import RandomForestClassifier"
   ]
  },
  {
   "cell_type": "code",
   "execution_count": 69,
   "id": "45d656aa",
   "metadata": {},
   "outputs": [],
   "source": [
    "model2=RandomForestClassifier()"
   ]
  },
  {
   "cell_type": "code",
   "execution_count": 56,
   "id": "f28eb84c",
   "metadata": {},
   "outputs": [
    {
     "name": "stderr",
     "output_type": "stream",
     "text": [
      "C:\\Users\\Sony\\AppData\\Local\\Temp/ipykernel_9336/2848998269.py:1: DataConversionWarning: A column-vector y was passed when a 1d array was expected. Please change the shape of y to (n_samples,), for example using ravel().\n",
      "  model2.fit(x_train,y_train)\n"
     ]
    },
    {
     "data": {
      "text/plain": [
       "RandomForestClassifier()"
      ]
     },
     "execution_count": 56,
     "metadata": {},
     "output_type": "execute_result"
    }
   ],
   "source": [
    "model2.fit(x_train,y_train)"
   ]
  },
  {
   "cell_type": "code",
   "execution_count": 59,
   "id": "b6cffba9",
   "metadata": {},
   "outputs": [
    {
     "data": {
      "text/plain": [
       "array([1, 2, 2, ..., 1, 1, 1], dtype=int64)"
      ]
     },
     "execution_count": 59,
     "metadata": {},
     "output_type": "execute_result"
    }
   ],
   "source": [
    "y_predict2=model.predict(x_test)\n",
    "y_predict2"
   ]
  },
  {
   "cell_type": "code",
   "execution_count": 60,
   "id": "a8dd6ad4",
   "metadata": {},
   "outputs": [
    {
     "data": {
      "text/plain": [
       "97.80559078127584"
      ]
     },
     "execution_count": 60,
     "metadata": {},
     "output_type": "execute_result"
    }
   ],
   "source": [
    "accuracy_score(y_test,y_predict2)*100"
   ]
  },
  {
   "cell_type": "code",
   "execution_count": 71,
   "id": "b1d30dd0",
   "metadata": {},
   "outputs": [],
   "source": [
    "L=data.loc[:,['vforms','vfatcount']]\n",
    "M=data.loc[:,['numfatal']]"
   ]
  },
  {
   "cell_type": "code",
   "execution_count": 75,
   "id": "2b8b9757",
   "metadata": {},
   "outputs": [],
   "source": [
    "from sklearn.neural_network import MLPClassifier"
   ]
  },
  {
   "cell_type": "code",
   "execution_count": 81,
   "id": "04880143",
   "metadata": {},
   "outputs": [],
   "source": [
    "l_train,l_test,m_train,m_test=train_test_split(L,M)"
   ]
  },
  {
   "cell_type": "code",
   "execution_count": 82,
   "id": "93b49100",
   "metadata": {},
   "outputs": [],
   "source": [
    "model3=MLPClassifier()"
   ]
  },
  {
   "cell_type": "code",
   "execution_count": 83,
   "id": "00d12cd3",
   "metadata": {},
   "outputs": [
    {
     "name": "stderr",
     "output_type": "stream",
     "text": [
      "C:\\Users\\Sony\\anaconda3\\lib\\site-packages\\sklearn\\utils\\validation.py:63: DataConversionWarning: A column-vector y was passed when a 1d array was expected. Please change the shape of y to (n_samples, ), for example using ravel().\n",
      "  return f(*args, **kwargs)\n"
     ]
    },
    {
     "data": {
      "text/plain": [
       "MLPClassifier()"
      ]
     },
     "execution_count": 83,
     "metadata": {},
     "output_type": "execute_result"
    }
   ],
   "source": [
    "model3.fit(l_train,m_train)"
   ]
  },
  {
   "cell_type": "code",
   "execution_count": 85,
   "id": "ea0dc1cb",
   "metadata": {},
   "outputs": [],
   "source": [
    "y_predict3=model3.predict(l_test)"
   ]
  },
  {
   "cell_type": "code",
   "execution_count": 86,
   "id": "4fbc9a51",
   "metadata": {},
   "outputs": [
    {
     "data": {
      "text/plain": [
       "array([1, 1, 1, ..., 2, 1, 1], dtype=int64)"
      ]
     },
     "execution_count": 86,
     "metadata": {},
     "output_type": "execute_result"
    }
   ],
   "source": [
    "y_predict3"
   ]
  },
  {
   "cell_type": "code",
   "execution_count": 88,
   "id": "8e312eaf",
   "metadata": {},
   "outputs": [
    {
     "data": {
      "text/plain": [
       "93.79169653195126"
      ]
     },
     "execution_count": 88,
     "metadata": {},
     "output_type": "execute_result"
    }
   ],
   "source": [
    "accuracy_score(m_test,y_predict3)*100"
   ]
  },
  {
   "cell_type": "code",
   "execution_count": 89,
   "id": "265ac057",
   "metadata": {},
   "outputs": [],
   "source": [
    "model4=RandomForestClassifier()"
   ]
  },
  {
   "cell_type": "code",
   "execution_count": 91,
   "id": "ee248440",
   "metadata": {},
   "outputs": [
    {
     "name": "stderr",
     "output_type": "stream",
     "text": [
      "C:\\Users\\Sony\\AppData\\Local\\Temp/ipykernel_9336/2899372008.py:1: DataConversionWarning: A column-vector y was passed when a 1d array was expected. Please change the shape of y to (n_samples,), for example using ravel().\n",
      "  model4.fit(l_train,m_train)\n"
     ]
    },
    {
     "data": {
      "text/plain": [
       "RandomForestClassifier()"
      ]
     },
     "execution_count": 91,
     "metadata": {},
     "output_type": "execute_result"
    }
   ],
   "source": [
    "model4.fit(l_train,m_train)"
   ]
  },
  {
   "cell_type": "code",
   "execution_count": 92,
   "id": "c9400c78",
   "metadata": {},
   "outputs": [],
   "source": [
    "y_predict4=model4.predict(l_test)"
   ]
  },
  {
   "cell_type": "code",
   "execution_count": 93,
   "id": "eee3d407",
   "metadata": {},
   "outputs": [
    {
     "data": {
      "text/plain": [
       "93.98467221701495"
      ]
     },
     "execution_count": 93,
     "metadata": {},
     "output_type": "execute_result"
    }
   ],
   "source": [
    "accuracy_score(m_test,y_predict4)*100"
   ]
  },
  {
   "cell_type": "code",
   "execution_count": null,
   "id": "4768d3d4",
   "metadata": {},
   "outputs": [],
   "source": []
  }
 ],
 "metadata": {
  "kernelspec": {
   "display_name": "Python 3 (ipykernel)",
   "language": "python",
   "name": "python3"
  },
  "language_info": {
   "codemirror_mode": {
    "name": "ipython",
    "version": 3
   },
   "file_extension": ".py",
   "mimetype": "text/x-python",
   "name": "python",
   "nbconvert_exporter": "python",
   "pygments_lexer": "ipython3",
   "version": "3.9.7"
  }
 },
 "nbformat": 4,
 "nbformat_minor": 5
}
